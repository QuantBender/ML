{
  "cells": [
    {
      "cell_type": "markdown",
      "metadata": {
        "id": "m2_L0VViuiAu"
      },
      "source": [
        "#Data preprocessing and pipelines"
      ]
    },
    {
      "cell_type": "markdown",
      "metadata": {
        "id": "ZeejiYQ-w2-A"
      },
      "source": [
        "Here we introduce these new aspects:\n",
        "\n",
        "* an example of preprocessing, namely scaling numerical variables;\n",
        "* using a scikit-learn pipeline to chain preprocessing and model training."
      ]
    },
    {
      "cell_type": "markdown",
      "metadata": {
        "id": "wP68jizzxJXr"
      },
      "source": [
        "## Data preparation"
      ]
    },
    {
      "cell_type": "markdown",
      "metadata": {
        "id": "We6NQKYMxLBg"
      },
      "source": [
        "First, let’s load the full adult census dataset."
      ]
    },
    {
      "cell_type": "code",
      "execution_count": 4,
      "metadata": {
        "id": "YHXpHn75xSs3"
      },
      "outputs": [],
      "source": [
        "import pandas as pd\n",
        "\n",
        "adult_census = pd.read_csv(\"adult.csv\")"
      ]
    },
    {
      "cell_type": "markdown",
      "metadata": {
        "id": "XBacXZt9x0vC"
      },
      "source": [
        "We now drop the target from the data we use to train our predictive model."
      ]
    },
    {
      "cell_type": "code",
      "execution_count": 5,
      "metadata": {},
      "outputs": [
        {
          "data": {
            "text/plain": [
              "Index(['age', 'workclass', 'fnlwgt', 'education', 'education.num',\n",
              "       'marital.status', 'occupation', 'relationship', 'race', 'sex',\n",
              "       'capital.gain', 'capital.loss', 'hours.per.week', 'native.country',\n",
              "       'income'],\n",
              "      dtype='object')"
            ]
          },
          "execution_count": 5,
          "metadata": {},
          "output_type": "execute_result"
        }
      ],
      "source": [
        "adult_census.columns"
      ]
    },
    {
      "cell_type": "code",
      "execution_count": 6,
      "metadata": {
        "id": "v55O1fSMx1_V"
      },
      "outputs": [],
      "source": [
        "target_name = \"income\"\n",
        "target = adult_census[target_name]\n",
        "data = adult_census.drop(columns=target_name)"
      ]
    },
    {
      "cell_type": "markdown",
      "metadata": {
        "id": "HxCGg13zx5ha"
      },
      "source": [
        "Then, we select only the numerical columns."
      ]
    },
    {
      "cell_type": "code",
      "execution_count": 7,
      "metadata": {
        "id": "2FY3abFWyI8-"
      },
      "outputs": [],
      "source": [
        "numerical_columns = [\"age\", \"capital.gain\", \"capital.loss\", \"hours.per.week\"]\n",
        "\n",
        "data_numeric = data[numerical_columns]"
      ]
    },
    {
      "cell_type": "markdown",
      "metadata": {
        "id": "MAu6DpDLyMAf"
      },
      "source": [
        "Finally, we can divide our dataset into a train and test sets."
      ]
    },
    {
      "cell_type": "code",
      "execution_count": 8,
      "metadata": {
        "id": "xG0qiw57yPW1"
      },
      "outputs": [],
      "source": [
        "from sklearn.model_selection import train_test_split\n",
        "\n",
        "data_train, data_test, target_train, target_test = train_test_split(\n",
        "    data_numeric, target, random_state=42\n",
        ")"
      ]
    },
    {
      "cell_type": "markdown",
      "metadata": {
        "id": "WhaflRmNyRal"
      },
      "source": [
        "##Model fitting with preprocessing"
      ]
    },
    {
      "cell_type": "markdown",
      "metadata": {
        "id": "3J0AfS0Yy87a"
      },
      "source": [
        "Let’s start by printing some statistics about the training data."
      ]
    },
    {
      "cell_type": "code",
      "execution_count": 9,
      "metadata": {
        "colab": {
          "base_uri": "https://localhost:8080/",
          "height": 300
        },
        "id": "w8pXjuV0zDDO",
        "outputId": "151e0b46-6ba2-4138-ef7e-ab8e140d03ea"
      },
      "outputs": [
        {
          "data": {
            "text/html": [
              "<div>\n",
              "<style scoped>\n",
              "    .dataframe tbody tr th:only-of-type {\n",
              "        vertical-align: middle;\n",
              "    }\n",
              "\n",
              "    .dataframe tbody tr th {\n",
              "        vertical-align: top;\n",
              "    }\n",
              "\n",
              "    .dataframe thead th {\n",
              "        text-align: right;\n",
              "    }\n",
              "</style>\n",
              "<table border=\"1\" class=\"dataframe\">\n",
              "  <thead>\n",
              "    <tr style=\"text-align: right;\">\n",
              "      <th></th>\n",
              "      <th>age</th>\n",
              "      <th>capital.gain</th>\n",
              "      <th>capital.loss</th>\n",
              "      <th>hours.per.week</th>\n",
              "    </tr>\n",
              "  </thead>\n",
              "  <tbody>\n",
              "    <tr>\n",
              "      <th>count</th>\n",
              "      <td>24420.000000</td>\n",
              "      <td>24420.000000</td>\n",
              "      <td>24420.000000</td>\n",
              "      <td>24420.000000</td>\n",
              "    </tr>\n",
              "    <tr>\n",
              "      <th>mean</th>\n",
              "      <td>38.534521</td>\n",
              "      <td>1100.636896</td>\n",
              "      <td>88.244554</td>\n",
              "      <td>40.546437</td>\n",
              "    </tr>\n",
              "    <tr>\n",
              "      <th>std</th>\n",
              "      <td>13.592626</td>\n",
              "      <td>7475.910059</td>\n",
              "      <td>405.319782</td>\n",
              "      <td>12.364975</td>\n",
              "    </tr>\n",
              "    <tr>\n",
              "      <th>min</th>\n",
              "      <td>17.000000</td>\n",
              "      <td>0.000000</td>\n",
              "      <td>0.000000</td>\n",
              "      <td>1.000000</td>\n",
              "    </tr>\n",
              "    <tr>\n",
              "      <th>25%</th>\n",
              "      <td>28.000000</td>\n",
              "      <td>0.000000</td>\n",
              "      <td>0.000000</td>\n",
              "      <td>40.000000</td>\n",
              "    </tr>\n",
              "    <tr>\n",
              "      <th>50%</th>\n",
              "      <td>37.000000</td>\n",
              "      <td>0.000000</td>\n",
              "      <td>0.000000</td>\n",
              "      <td>40.000000</td>\n",
              "    </tr>\n",
              "    <tr>\n",
              "      <th>75%</th>\n",
              "      <td>47.000000</td>\n",
              "      <td>0.000000</td>\n",
              "      <td>0.000000</td>\n",
              "      <td>45.000000</td>\n",
              "    </tr>\n",
              "    <tr>\n",
              "      <th>max</th>\n",
              "      <td>90.000000</td>\n",
              "      <td>99999.000000</td>\n",
              "      <td>4356.000000</td>\n",
              "      <td>99.000000</td>\n",
              "    </tr>\n",
              "  </tbody>\n",
              "</table>\n",
              "</div>"
            ],
            "text/plain": [
              "                age  capital.gain  capital.loss  hours.per.week\n",
              "count  24420.000000  24420.000000  24420.000000    24420.000000\n",
              "mean      38.534521   1100.636896     88.244554       40.546437\n",
              "std       13.592626   7475.910059    405.319782       12.364975\n",
              "min       17.000000      0.000000      0.000000        1.000000\n",
              "25%       28.000000      0.000000      0.000000       40.000000\n",
              "50%       37.000000      0.000000      0.000000       40.000000\n",
              "75%       47.000000      0.000000      0.000000       45.000000\n",
              "max       90.000000  99999.000000   4356.000000       99.000000"
            ]
          },
          "execution_count": 9,
          "metadata": {},
          "output_type": "execute_result"
        }
      ],
      "source": [
        "data_train.describe()"
      ]
    },
    {
      "cell_type": "markdown",
      "metadata": {
        "id": "lLPNUScyzEo2"
      },
      "source": [
        "We see that the dataset’s features span across different ranges. Some algorithms make some assumptions regarding the feature distributions and normalizing features is usually helpful to address such assumptions.\n",
        "\n",
        "We show how to apply such normalization using a scikit-learn transformer called `StandardScaler`. This transformer shifts and scales each feature individually so that they all have a 0-mean and a unit standard deviation.\n",
        "\n",
        "First, one needs to call the method `fit` in order to learn the scaling from the data."
      ]
    },
    {
      "cell_type": "code",
      "execution_count": 10,
      "metadata": {
        "colab": {
          "base_uri": "https://localhost:8080/",
          "height": 75
        },
        "id": "OV_i4GMBzJnS",
        "outputId": "861e6529-9a00-4ec9-a684-d6bfaf07d71c"
      },
      "outputs": [
        {
          "data": {
            "text/html": [
              "<style>#sk-container-id-1 {color: black;}#sk-container-id-1 pre{padding: 0;}#sk-container-id-1 div.sk-toggleable {background-color: white;}#sk-container-id-1 label.sk-toggleable__label {cursor: pointer;display: block;width: 100%;margin-bottom: 0;padding: 0.3em;box-sizing: border-box;text-align: center;}#sk-container-id-1 label.sk-toggleable__label-arrow:before {content: \"▸\";float: left;margin-right: 0.25em;color: #696969;}#sk-container-id-1 label.sk-toggleable__label-arrow:hover:before {color: black;}#sk-container-id-1 div.sk-estimator:hover label.sk-toggleable__label-arrow:before {color: black;}#sk-container-id-1 div.sk-toggleable__content {max-height: 0;max-width: 0;overflow: hidden;text-align: left;background-color: #f0f8ff;}#sk-container-id-1 div.sk-toggleable__content pre {margin: 0.2em;color: black;border-radius: 0.25em;background-color: #f0f8ff;}#sk-container-id-1 input.sk-toggleable__control:checked~div.sk-toggleable__content {max-height: 200px;max-width: 100%;overflow: auto;}#sk-container-id-1 input.sk-toggleable__control:checked~label.sk-toggleable__label-arrow:before {content: \"▾\";}#sk-container-id-1 div.sk-estimator input.sk-toggleable__control:checked~label.sk-toggleable__label {background-color: #d4ebff;}#sk-container-id-1 div.sk-label input.sk-toggleable__control:checked~label.sk-toggleable__label {background-color: #d4ebff;}#sk-container-id-1 input.sk-hidden--visually {border: 0;clip: rect(1px 1px 1px 1px);clip: rect(1px, 1px, 1px, 1px);height: 1px;margin: -1px;overflow: hidden;padding: 0;position: absolute;width: 1px;}#sk-container-id-1 div.sk-estimator {font-family: monospace;background-color: #f0f8ff;border: 1px dotted black;border-radius: 0.25em;box-sizing: border-box;margin-bottom: 0.5em;}#sk-container-id-1 div.sk-estimator:hover {background-color: #d4ebff;}#sk-container-id-1 div.sk-parallel-item::after {content: \"\";width: 100%;border-bottom: 1px solid gray;flex-grow: 1;}#sk-container-id-1 div.sk-label:hover label.sk-toggleable__label {background-color: #d4ebff;}#sk-container-id-1 div.sk-serial::before {content: \"\";position: absolute;border-left: 1px solid gray;box-sizing: border-box;top: 0;bottom: 0;left: 50%;z-index: 0;}#sk-container-id-1 div.sk-serial {display: flex;flex-direction: column;align-items: center;background-color: white;padding-right: 0.2em;padding-left: 0.2em;position: relative;}#sk-container-id-1 div.sk-item {position: relative;z-index: 1;}#sk-container-id-1 div.sk-parallel {display: flex;align-items: stretch;justify-content: center;background-color: white;position: relative;}#sk-container-id-1 div.sk-item::before, #sk-container-id-1 div.sk-parallel-item::before {content: \"\";position: absolute;border-left: 1px solid gray;box-sizing: border-box;top: 0;bottom: 0;left: 50%;z-index: -1;}#sk-container-id-1 div.sk-parallel-item {display: flex;flex-direction: column;z-index: 1;position: relative;background-color: white;}#sk-container-id-1 div.sk-parallel-item:first-child::after {align-self: flex-end;width: 50%;}#sk-container-id-1 div.sk-parallel-item:last-child::after {align-self: flex-start;width: 50%;}#sk-container-id-1 div.sk-parallel-item:only-child::after {width: 0;}#sk-container-id-1 div.sk-dashed-wrapped {border: 1px dashed gray;margin: 0 0.4em 0.5em 0.4em;box-sizing: border-box;padding-bottom: 0.4em;background-color: white;}#sk-container-id-1 div.sk-label label {font-family: monospace;font-weight: bold;display: inline-block;line-height: 1.2em;}#sk-container-id-1 div.sk-label-container {text-align: center;}#sk-container-id-1 div.sk-container {/* jupyter's `normalize.less` sets `[hidden] { display: none; }` but bootstrap.min.css set `[hidden] { display: none !important; }` so we also need the `!important` here to be able to override the default hidden behavior on the sphinx rendered scikit-learn.org. See: https://github.com/scikit-learn/scikit-learn/issues/21755 */display: inline-block !important;position: relative;}#sk-container-id-1 div.sk-text-repr-fallback {display: none;}</style><div id=\"sk-container-id-1\" class=\"sk-top-container\"><div class=\"sk-text-repr-fallback\"><pre>StandardScaler()</pre><b>In a Jupyter environment, please rerun this cell to show the HTML representation or trust the notebook. <br />On GitHub, the HTML representation is unable to render, please try loading this page with nbviewer.org.</b></div><div class=\"sk-container\" hidden><div class=\"sk-item\"><div class=\"sk-estimator sk-toggleable\"><input class=\"sk-toggleable__control sk-hidden--visually\" id=\"sk-estimator-id-1\" type=\"checkbox\" checked><label for=\"sk-estimator-id-1\" class=\"sk-toggleable__label sk-toggleable__label-arrow\">StandardScaler</label><div class=\"sk-toggleable__content\"><pre>StandardScaler()</pre></div></div></div></div></div>"
            ],
            "text/plain": [
              "StandardScaler()"
            ]
          },
          "execution_count": 10,
          "metadata": {},
          "output_type": "execute_result"
        }
      ],
      "source": [
        "from sklearn.preprocessing import StandardScaler\n",
        "\n",
        "scaler = StandardScaler()\n",
        "scaler.fit(data_train)"
      ]
    },
    {
      "cell_type": "markdown",
      "metadata": {
        "id": "itQIR1bxzbZO"
      },
      "source": [
        "We can inspect the computed means and standard deviations."
      ]
    },
    {
      "cell_type": "code",
      "execution_count": 11,
      "metadata": {
        "colab": {
          "base_uri": "https://localhost:8080/"
        },
        "id": "Hz0mHiXbzkO2",
        "outputId": "1f4a28b3-3cab-478d-977d-f43a27c6cf17"
      },
      "outputs": [
        {
          "data": {
            "text/plain": [
              "array([  38.53452088, 1100.63689599,   88.24455364,   40.54643735])"
            ]
          },
          "execution_count": 11,
          "metadata": {},
          "output_type": "execute_result"
        }
      ],
      "source": [
        "scaler.mean_"
      ]
    },
    {
      "cell_type": "code",
      "execution_count": 12,
      "metadata": {
        "colab": {
          "base_uri": "https://localhost:8080/"
        },
        "id": "co21TG5Wzmj9",
        "outputId": "d97beff8-9dfd-4bbe-83a9-1446778134f1"
      },
      "outputs": [
        {
          "data": {
            "text/plain": [
              "array([  13.59234787, 7475.75698813,  405.31148311,   12.36472145])"
            ]
          },
          "execution_count": 12,
          "metadata": {},
          "output_type": "execute_result"
        }
      ],
      "source": [
        "scaler.scale_"
      ]
    },
    {
      "cell_type": "markdown",
      "metadata": {
        "id": "__VzQt1azofe"
      },
      "source": [
        "Once we have called the `fit` method, we can perform data transformation by calling the method `transform`."
      ]
    },
    {
      "cell_type": "code",
      "execution_count": 13,
      "metadata": {
        "colab": {
          "base_uri": "https://localhost:8080/"
        },
        "id": "-r5eU_m4zvdS",
        "outputId": "4ebc4395-a6c8-404a-972f-8be4a3656e05"
      },
      "outputs": [
        {
          "data": {
            "text/plain": [
              "array([[-0.03932513, -0.14722748,  6.09594238,  3.99956949],\n",
              "       [-0.99574562, -0.14722748, -0.21772034, -0.04419326],\n",
              "       [ 1.79994504, -0.14722748, -0.21772034,  0.76455929],\n",
              "       ...,\n",
              "       [ 1.21137858, -0.14722748,  4.43795826, -0.04419326],\n",
              "       [ 0.18138729, -0.14722748, -0.21772034,  0.76455929],\n",
              "       [-1.21645804, -0.14722748, -0.21772034,  0.76455929]])"
            ]
          },
          "execution_count": 13,
          "metadata": {},
          "output_type": "execute_result"
        }
      ],
      "source": [
        "data_train_scaled = scaler.transform(data_train)\n",
        "data_train_scaled"
      ]
    },
    {
      "cell_type": "markdown",
      "metadata": {
        "id": "uFQe1j-Wzxju"
      },
      "source": [
        "Finally, the method `fit_transform` is a shorthand method to call successively fit and then transform."
      ]
    },
    {
      "cell_type": "code",
      "execution_count": 14,
      "metadata": {
        "colab": {
          "base_uri": "https://localhost:8080/"
        },
        "id": "DGmpjS4Kz4bA",
        "outputId": "14ebc836-7189-44b7-c05a-1ce82e70a293"
      },
      "outputs": [
        {
          "data": {
            "text/plain": [
              "array([[-0.03932513, -0.14722748,  6.09594238,  3.99956949],\n",
              "       [-0.99574562, -0.14722748, -0.21772034, -0.04419326],\n",
              "       [ 1.79994504, -0.14722748, -0.21772034,  0.76455929],\n",
              "       ...,\n",
              "       [ 1.21137858, -0.14722748,  4.43795826, -0.04419326],\n",
              "       [ 0.18138729, -0.14722748, -0.21772034,  0.76455929],\n",
              "       [-1.21645804, -0.14722748, -0.21772034,  0.76455929]])"
            ]
          },
          "execution_count": 14,
          "metadata": {},
          "output_type": "execute_result"
        }
      ],
      "source": [
        "data_train_scaled = scaler.fit_transform(data_train)\n",
        "data_train_scaled"
      ]
    },
    {
      "cell_type": "markdown",
      "metadata": {
        "id": "NkaoYGh9z9EK"
      },
      "source": [
        "By default, all scikit-learn transformers output NumPy arrays. Since scikit-learn 1.2, it is possible to set the output to be a pandas dataframe, which makes data exploration easier as it preserves the column names."
      ]
    },
    {
      "cell_type": "code",
      "execution_count": 15,
      "metadata": {
        "colab": {
          "base_uri": "https://localhost:8080/",
          "height": 300
        },
        "id": "tv2YrecM0GHQ",
        "outputId": "c0ecdb27-ce83-4101-fb06-48dd5484c256"
      },
      "outputs": [
        {
          "data": {
            "text/html": [
              "<div>\n",
              "<style scoped>\n",
              "    .dataframe tbody tr th:only-of-type {\n",
              "        vertical-align: middle;\n",
              "    }\n",
              "\n",
              "    .dataframe tbody tr th {\n",
              "        vertical-align: top;\n",
              "    }\n",
              "\n",
              "    .dataframe thead th {\n",
              "        text-align: right;\n",
              "    }\n",
              "</style>\n",
              "<table border=\"1\" class=\"dataframe\">\n",
              "  <thead>\n",
              "    <tr style=\"text-align: right;\">\n",
              "      <th></th>\n",
              "      <th>age</th>\n",
              "      <th>capital.gain</th>\n",
              "      <th>capital.loss</th>\n",
              "      <th>hours.per.week</th>\n",
              "    </tr>\n",
              "  </thead>\n",
              "  <tbody>\n",
              "    <tr>\n",
              "      <th>count</th>\n",
              "      <td>2.442000e+04</td>\n",
              "      <td>2.442000e+04</td>\n",
              "      <td>2.442000e+04</td>\n",
              "      <td>2.442000e+04</td>\n",
              "    </tr>\n",
              "    <tr>\n",
              "      <th>mean</th>\n",
              "      <td>-2.009131e-16</td>\n",
              "      <td>-1.869466e-17</td>\n",
              "      <td>6.634060e-17</td>\n",
              "      <td>2.182257e-16</td>\n",
              "    </tr>\n",
              "    <tr>\n",
              "      <th>std</th>\n",
              "      <td>1.000020e+00</td>\n",
              "      <td>1.000020e+00</td>\n",
              "      <td>1.000020e+00</td>\n",
              "      <td>1.000020e+00</td>\n",
              "    </tr>\n",
              "    <tr>\n",
              "      <th>min</th>\n",
              "      <td>-1.584312e+00</td>\n",
              "      <td>-1.472275e-01</td>\n",
              "      <td>-2.177203e-01</td>\n",
              "      <td>-3.198328e+00</td>\n",
              "    </tr>\n",
              "    <tr>\n",
              "      <th>25%</th>\n",
              "      <td>-7.750332e-01</td>\n",
              "      <td>-1.472275e-01</td>\n",
              "      <td>-2.177203e-01</td>\n",
              "      <td>-4.419326e-02</td>\n",
              "    </tr>\n",
              "    <tr>\n",
              "      <th>50%</th>\n",
              "      <td>-1.128959e-01</td>\n",
              "      <td>-1.472275e-01</td>\n",
              "      <td>-2.177203e-01</td>\n",
              "      <td>-4.419326e-02</td>\n",
              "    </tr>\n",
              "    <tr>\n",
              "      <th>75%</th>\n",
              "      <td>6.228121e-01</td>\n",
              "      <td>-1.472275e-01</td>\n",
              "      <td>-2.177203e-01</td>\n",
              "      <td>3.601830e-01</td>\n",
              "    </tr>\n",
              "    <tr>\n",
              "      <th>max</th>\n",
              "      <td>3.786357e+00</td>\n",
              "      <td>1.322921e+01</td>\n",
              "      <td>1.052957e+01</td>\n",
              "      <td>4.727447e+00</td>\n",
              "    </tr>\n",
              "  </tbody>\n",
              "</table>\n",
              "</div>"
            ],
            "text/plain": [
              "                age  capital.gain  capital.loss  hours.per.week\n",
              "count  2.442000e+04  2.442000e+04  2.442000e+04    2.442000e+04\n",
              "mean  -2.009131e-16 -1.869466e-17  6.634060e-17    2.182257e-16\n",
              "std    1.000020e+00  1.000020e+00  1.000020e+00    1.000020e+00\n",
              "min   -1.584312e+00 -1.472275e-01 -2.177203e-01   -3.198328e+00\n",
              "25%   -7.750332e-01 -1.472275e-01 -2.177203e-01   -4.419326e-02\n",
              "50%   -1.128959e-01 -1.472275e-01 -2.177203e-01   -4.419326e-02\n",
              "75%    6.228121e-01 -1.472275e-01 -2.177203e-01    3.601830e-01\n",
              "max    3.786357e+00  1.322921e+01  1.052957e+01    4.727447e+00"
            ]
          },
          "execution_count": 15,
          "metadata": {},
          "output_type": "execute_result"
        }
      ],
      "source": [
        "scaler = StandardScaler().set_output(transform=\"pandas\")\n",
        "data_train_scaled = scaler.fit_transform(data_train)\n",
        "data_train_scaled.describe()"
      ]
    },
    {
      "cell_type": "markdown",
      "metadata": {
        "id": "FZRBdarg0JB_"
      },
      "source": [
        "### Exercice 1"
      ]
    },
    {
      "cell_type": "markdown",
      "metadata": {
        "id": "-WKeWFGE0ZR3"
      },
      "source": [
        "Visualize the effect of `StandardScaler` (befor and after)using  a scatterplot of `age` vs `hours-per-week`."
      ]
    },
    {
      "cell_type": "code",
      "execution_count": 18,
      "metadata": {},
      "outputs": [
        {
          "data": {
            "image/png": "[encoded data removed]",
            "text/plain": [
              "<Figure size 1000x500 with 2 Axes>"
            ]
          },
          "metadata": {},
          "output_type": "display_data"
        }
      ],
      "source": [
        "import matplotlib.pyplot as plt\n",
        "\n",
        "fig, axs = plt.subplots(1, 2, figsize=(10, 5))\n",
        "\n",
        "axs[0].scatter(data_train[\"age\"], data_train[\"hours.per.week\"])\n",
        "axs[1].scatter(data_train_scaled[\"age\"], data_train_scaled[\"hours.per.week\"])\n",
        "\n",
        "axs[0].set_title(\"Original Data\")\n",
        "axs[1].set_title(\"Scaled Data\")\n",
        "\n",
        "axs[0].set_xlabel(\"Age\")\n",
        "axs[1].set_xlabel(\"Age\")\n",
        "\n",
        "axs[0].set_ylabel(\"Hours per week\")\n",
        "axs[1].set_ylabel(\"Hours per week\")\n",
        "\n",
        "plt.suptitle(\"Age vs Hours per week\")\n",
        "\n",
        "plt.tight_layout()\n",
        "\n",
        "plt.show()"
      ]
    },
    {
      "cell_type": "markdown",
      "metadata": {},
      "source": [
        "- We notice that in the original data, the age varies between around 18 and 90 years old, whereas in the scaled data, it ranges from -2 to 4.\n",
        "\n",
        "- The Hours per week before to be scaled, spans the interval 0 to 100, whereas after scaling it goes from -3 to 5"
      ]
    },
    {
      "cell_type": "markdown",
      "metadata": {},
      "source": [
        "- It doestn't affect the correlation between both variables"
      ]
    },
    {
      "cell_type": "code",
      "execution_count": null,
      "metadata": {},
      "outputs": [],
      "source": []
    },
    {
      "cell_type": "markdown",
      "metadata": {
        "id": "aelSqvFh1T7x"
      },
      "source": [
        "## Pipelines"
      ]
    },
    {
      "cell_type": "markdown",
      "metadata": {
        "id": "hQ4ZFLke1V69"
      },
      "source": [
        "We can easily combine sequential operations with a `scikit-learn` `Pipeline`, which chains together operations and is used as any other classifier or regressor. The helper function `make_pipeline` creates a `Pipeline`: it takes as arguments the successive transformations to perform, followed by the classifier or regressor model."
      ]
    },
    {
      "cell_type": "code",
      "execution_count": 19,
      "metadata": {
        "colab": {
          "base_uri": "https://localhost:8080/",
          "height": 126
        },
        "id": "zOpRwbSb1iio",
        "outputId": "7f6c4587-3404-4b69-a562-d189c1235943"
      },
      "outputs": [
        {
          "data": {
            "text/html": [
              "<style>#sk-container-id-2 {color: black;}#sk-container-id-2 pre{padding: 0;}#sk-container-id-2 div.sk-toggleable {background-color: white;}#sk-container-id-2 label.sk-toggleable__label {cursor: pointer;display: block;width: 100%;margin-bottom: 0;padding: 0.3em;box-sizing: border-box;text-align: center;}#sk-container-id-2 label.sk-toggleable__label-arrow:before {content: \"▸\";float: left;margin-right: 0.25em;color: #696969;}#sk-container-id-2 label.sk-toggleable__label-arrow:hover:before {color: black;}#sk-container-id-2 div.sk-estimator:hover label.sk-toggleable__label-arrow:before {color: black;}#sk-container-id-2 div.sk-toggleable__content {max-height: 0;max-width: 0;overflow: hidden;text-align: left;background-color: #f0f8ff;}#sk-container-id-2 div.sk-toggleable__content pre {margin: 0.2em;color: black;border-radius: 0.25em;background-color: #f0f8ff;}#sk-container-id-2 input.sk-toggleable__control:checked~div.sk-toggleable__content {max-height: 200px;max-width: 100%;overflow: auto;}#sk-container-id-2 input.sk-toggleable__control:checked~label.sk-toggleable__label-arrow:before {content: \"▾\";}#sk-container-id-2 div.sk-estimator input.sk-toggleable__control:checked~label.sk-toggleable__label {background-color: #d4ebff;}#sk-container-id-2 div.sk-label input.sk-toggleable__control:checked~label.sk-toggleable__label {background-color: #d4ebff;}#sk-container-id-2 input.sk-hidden--visually {border: 0;clip: rect(1px 1px 1px 1px);clip: rect(1px, 1px, 1px, 1px);height: 1px;margin: -1px;overflow: hidden;padding: 0;position: absolute;width: 1px;}#sk-container-id-2 div.sk-estimator {font-family: monospace;background-color: #f0f8ff;border: 1px dotted black;border-radius: 0.25em;box-sizing: border-box;margin-bottom: 0.5em;}#sk-container-id-2 div.sk-estimator:hover {background-color: #d4ebff;}#sk-container-id-2 div.sk-parallel-item::after {content: \"\";width: 100%;border-bottom: 1px solid gray;flex-grow: 1;}#sk-container-id-2 div.sk-label:hover label.sk-toggleable__label {background-color: #d4ebff;}#sk-container-id-2 div.sk-serial::before {content: \"\";position: absolute;border-left: 1px solid gray;box-sizing: border-box;top: 0;bottom: 0;left: 50%;z-index: 0;}#sk-container-id-2 div.sk-serial {display: flex;flex-direction: column;align-items: center;background-color: white;padding-right: 0.2em;padding-left: 0.2em;position: relative;}#sk-container-id-2 div.sk-item {position: relative;z-index: 1;}#sk-container-id-2 div.sk-parallel {display: flex;align-items: stretch;justify-content: center;background-color: white;position: relative;}#sk-container-id-2 div.sk-item::before, #sk-container-id-2 div.sk-parallel-item::before {content: \"\";position: absolute;border-left: 1px solid gray;box-sizing: border-box;top: 0;bottom: 0;left: 50%;z-index: -1;}#sk-container-id-2 div.sk-parallel-item {display: flex;flex-direction: column;z-index: 1;position: relative;background-color: white;}#sk-container-id-2 div.sk-parallel-item:first-child::after {align-self: flex-end;width: 50%;}#sk-container-id-2 div.sk-parallel-item:last-child::after {align-self: flex-start;width: 50%;}#sk-container-id-2 div.sk-parallel-item:only-child::after {width: 0;}#sk-container-id-2 div.sk-dashed-wrapped {border: 1px dashed gray;margin: 0 0.4em 0.5em 0.4em;box-sizing: border-box;padding-bottom: 0.4em;background-color: white;}#sk-container-id-2 div.sk-label label {font-family: monospace;font-weight: bold;display: inline-block;line-height: 1.2em;}#sk-container-id-2 div.sk-label-container {text-align: center;}#sk-container-id-2 div.sk-container {/* jupyter's `normalize.less` sets `[hidden] { display: none; }` but bootstrap.min.css set `[hidden] { display: none !important; }` so we also need the `!important` here to be able to override the default hidden behavior on the sphinx rendered scikit-learn.org. See: https://github.com/scikit-learn/scikit-learn/issues/21755 */display: inline-block !important;position: relative;}#sk-container-id-2 div.sk-text-repr-fallback {display: none;}</style><div id=\"sk-container-id-2\" class=\"sk-top-container\"><div class=\"sk-text-repr-fallback\"><pre>Pipeline(steps=[(&#x27;standardscaler&#x27;, StandardScaler()),\n",
              "                (&#x27;logisticregression&#x27;, LogisticRegression())])</pre><b>In a Jupyter environment, please rerun this cell to show the HTML representation or trust the notebook. <br />On GitHub, the HTML representation is unable to render, please try loading this page with nbviewer.org.</b></div><div class=\"sk-container\" hidden><div class=\"sk-item sk-dashed-wrapped\"><div class=\"sk-label-container\"><div class=\"sk-label sk-toggleable\"><input class=\"sk-toggleable__control sk-hidden--visually\" id=\"sk-estimator-id-2\" type=\"checkbox\" ><label for=\"sk-estimator-id-2\" class=\"sk-toggleable__label sk-toggleable__label-arrow\">Pipeline</label><div class=\"sk-toggleable__content\"><pre>Pipeline(steps=[(&#x27;standardscaler&#x27;, StandardScaler()),\n",
              "                (&#x27;logisticregression&#x27;, LogisticRegression())])</pre></div></div></div><div class=\"sk-serial\"><div class=\"sk-item\"><div class=\"sk-estimator sk-toggleable\"><input class=\"sk-toggleable__control sk-hidden--visually\" id=\"sk-estimator-id-3\" type=\"checkbox\" ><label for=\"sk-estimator-id-3\" class=\"sk-toggleable__label sk-toggleable__label-arrow\">StandardScaler</label><div class=\"sk-toggleable__content\"><pre>StandardScaler()</pre></div></div></div><div class=\"sk-item\"><div class=\"sk-estimator sk-toggleable\"><input class=\"sk-toggleable__control sk-hidden--visually\" id=\"sk-estimator-id-4\" type=\"checkbox\" ><label for=\"sk-estimator-id-4\" class=\"sk-toggleable__label sk-toggleable__label-arrow\">LogisticRegression</label><div class=\"sk-toggleable__content\"><pre>LogisticRegression()</pre></div></div></div></div></div></div></div>"
            ],
            "text/plain": [
              "Pipeline(steps=[('standardscaler', StandardScaler()),\n",
              "                ('logisticregression', LogisticRegression())])"
            ]
          },
          "execution_count": 19,
          "metadata": {},
          "output_type": "execute_result"
        }
      ],
      "source": [
        "import time\n",
        "from sklearn.linear_model import LogisticRegression\n",
        "from sklearn.pipeline import make_pipeline\n",
        "\n",
        "model = make_pipeline(StandardScaler(), LogisticRegression())\n",
        "model"
      ]
    },
    {
      "cell_type": "markdown",
      "metadata": {
        "id": "S6OCxG1e1uUo"
      },
      "source": [
        "This predictive `pipeline` exposes the same methods as the final predictor: `fit` and `predict`."
      ]
    },
    {
      "cell_type": "code",
      "execution_count": 20,
      "metadata": {
        "id": "34Qtp_pL19sB"
      },
      "outputs": [],
      "source": [
        "start = time.time()\n",
        "model.fit(data_train, target_train)\n",
        "elapsed_time = time.time() - start"
      ]
    },
    {
      "cell_type": "code",
      "execution_count": 21,
      "metadata": {},
      "outputs": [
        {
          "data": {
            "text/plain": [
              "0.1009528636932373"
            ]
          },
          "execution_count": 21,
          "metadata": {},
          "output_type": "execute_result"
        }
      ],
      "source": [
        "elapsed_time"
      ]
    },
    {
      "cell_type": "markdown",
      "metadata": {
        "id": "skSOpU6g1_NO"
      },
      "source": [
        "To predict the targets given a test set, one uses the predict method."
      ]
    },
    {
      "cell_type": "code",
      "execution_count": 22,
      "metadata": {
        "colab": {
          "base_uri": "https://localhost:8080/"
        },
        "id": "VS_IPgtG2J8i",
        "outputId": "3ef36a94-f350-4aaa-dd84-2151a2d412e4"
      },
      "outputs": [
        {
          "data": {
            "text/plain": [
              "array(['<=50K', '<=50K', '<=50K', '<=50K', '<=50K'], dtype=object)"
            ]
          },
          "execution_count": 22,
          "metadata": {},
          "output_type": "execute_result"
        }
      ],
      "source": [
        "predicted_target = model.predict(data_test)\n",
        "predicted_target[:5]"
      ]
    },
    {
      "cell_type": "markdown",
      "metadata": {
        "id": "NNS1iT1e2Obm"
      },
      "source": [
        "As a shorthand, we can check the score of the full predictive pipeline calling the method `model.score`."
      ]
    },
    {
      "cell_type": "code",
      "execution_count": 23,
      "metadata": {
        "colab": {
          "base_uri": "https://localhost:8080/"
        },
        "id": "Y5f5kDUZ2lDl",
        "outputId": "808bfb18-ea04-4212-c5b9-c64373cfef62"
      },
      "outputs": [
        {
          "name": "stdout",
          "output_type": "stream",
          "text": [
            "The accuracy using a Pipeline is 0.798 with a fitting time of 0.101 seconds in 12 iterations\n"
          ]
        }
      ],
      "source": [
        "model_name = model.__class__.__name__\n",
        "score = model.score(data_test, target_test)\n",
        "print(\n",
        "    f\"The accuracy using a {model_name} is {score:.3f} \"\n",
        "    f\"with a fitting time of {elapsed_time:.3f} seconds \"\n",
        "    f\"in {model[-1].n_iter_[0]} iterations\"\n",
        ")"
      ]
    },
    {
      "cell_type": "markdown",
      "metadata": {},
      "source": [
        "### Let's try out different scaling methods"
      ]
    },
    {
      "cell_type": "code",
      "execution_count": 35,
      "metadata": {},
      "outputs": [],
      "source": [
        "from sklearn.preprocessing import MinMaxScaler, RobustScaler\n",
        "\n",
        "model2 = make_pipeline(MinMaxScaler(), LogisticRegression())\n",
        "\n",
        "model3 = make_pipeline(RobustScaler(), LogisticRegression())"
      ]
    },
    {
      "cell_type": "code",
      "execution_count": 36,
      "metadata": {},
      "outputs": [],
      "source": [
        "start = time.time()\n",
        "model2.fit(data_train, target_train)\n",
        "elapsed_time2 = time.time() - start\n",
        "\n",
        "start = time.time()\n",
        "model3.fit(data_train, target_train)\n",
        "elapsed_time3 = time.time() - start"
      ]
    },
    {
      "cell_type": "code",
      "execution_count": 37,
      "metadata": {},
      "outputs": [],
      "source": [
        "predicted_target2 = model2.predict(data_test)\n",
        "predicted_target3 = model3.predict(data_test)\n"
      ]
    },
    {
      "cell_type": "code",
      "execution_count": 39,
      "metadata": {},
      "outputs": [
        {
          "name": "stdout",
          "output_type": "stream",
          "text": [
            "The accuracy using a Pipeline with StandardScaler is 0.798 with a fitting time of 0.101 seconds in 12 iterations\n",
            "The accuracy using a Pipeline with MinMaxScaler is 0.794 with a fitting time of 0.105 seconds in 23 iterations\n",
            "The accuracy using a Pipeline with RobustScaler is 0.798 with a fitting time of 0.174 seconds in 74 iterations\n"
          ]
        }
      ],
      "source": [
        "model_name = model.__class__.__name__ + \" with StandardScaler\"\n",
        "score = model.score(data_test, target_test)\n",
        "print(\n",
        "    f\"The accuracy using a {model_name} is {score:.3f} \"\n",
        "    f\"with a fitting time of {elapsed_time:.3f} seconds \"\n",
        "    f\"in {model[-1].n_iter_[0]} iterations\"\n",
        ")\n",
        "\n",
        "model_name = model2.__class__.__name__ + \" with MinMaxScaler\"\n",
        "score = model2.score(data_test, target_test)\n",
        "print(\n",
        "    f\"The accuracy using a {model_name} is {score:.3f} \"\n",
        "    f\"with a fitting time of {elapsed_time2:.3f} seconds \"\n",
        "    f\"in {model2[-1].n_iter_[0]} iterations\"\n",
        ")\n",
        "\n",
        "model_name = model3.__class__.__name__ + \" with RobustScaler\"\n",
        "score = model3.score(data_test, target_test)\n",
        "print(\n",
        "    f\"The accuracy using a {model_name} is {score:.3f} \"\n",
        "    f\"with a fitting time of {elapsed_time3:.3f} seconds \"\n",
        "    f\"in {model3[-1].n_iter_[0]} iterations\"\n",
        ")"
      ]
    },
    {
      "cell_type": "code",
      "execution_count": 41,
      "metadata": {},
      "outputs": [],
      "source": [
        "res = pd.DataFrame(\n",
        "    {\n",
        "    \"scaling method\": [\"StandardScaler\", \"MinMaxScaler\", \"RobustScaler\"],\n",
        "    \"fitting time\": [elapsed_time, elapsed_time2, elapsed_time3],\n",
        "    \"accuracy\": [model.score(data_test, target_test), model2.score(data_test, target_test), model3.score(data_test, target_test)]\n",
        "})"
      ]
    },
    {
      "cell_type": "code",
      "execution_count": 42,
      "metadata": {},
      "outputs": [
        {
          "data": {
            "text/html": [
              "<div>\n",
              "<style scoped>\n",
              "    .dataframe tbody tr th:only-of-type {\n",
              "        vertical-align: middle;\n",
              "    }\n",
              "\n",
              "    .dataframe tbody tr th {\n",
              "        vertical-align: top;\n",
              "    }\n",
              "\n",
              "    .dataframe thead th {\n",
              "        text-align: right;\n",
              "    }\n",
              "</style>\n",
              "<table border=\"1\" class=\"dataframe\">\n",
              "  <thead>\n",
              "    <tr style=\"text-align: right;\">\n",
              "      <th></th>\n",
              "      <th>scaling method</th>\n",
              "      <th>fitting time</th>\n",
              "      <th>accuracy</th>\n",
              "    </tr>\n",
              "  </thead>\n",
              "  <tbody>\n",
              "    <tr>\n",
              "      <th>0</th>\n",
              "      <td>StandardScaler</td>\n",
              "      <td>0.100953</td>\n",
              "      <td>0.797936</td>\n",
              "    </tr>\n",
              "    <tr>\n",
              "      <th>1</th>\n",
              "      <td>MinMaxScaler</td>\n",
              "      <td>0.104652</td>\n",
              "      <td>0.793514</td>\n",
              "    </tr>\n",
              "    <tr>\n",
              "      <th>2</th>\n",
              "      <td>RobustScaler</td>\n",
              "      <td>0.173611</td>\n",
              "      <td>0.797936</td>\n",
              "    </tr>\n",
              "  </tbody>\n",
              "</table>\n",
              "</div>"
            ],
            "text/plain": [
              "   scaling method  fitting time  accuracy\n",
              "0  StandardScaler      0.100953  0.797936\n",
              "1    MinMaxScaler      0.104652  0.793514\n",
              "2    RobustScaler      0.173611  0.797936"
            ]
          },
          "execution_count": 42,
          "metadata": {},
          "output_type": "execute_result"
        }
      ],
      "source": [
        "res"
      ]
    },
    {
      "cell_type": "markdown",
      "metadata": {},
      "source": [
        "## Missing values analysis"
      ]
    },
    {
      "cell_type": "code",
      "execution_count": 25,
      "metadata": {},
      "outputs": [
        {
          "data": {
            "text/plain": [
              "age               0\n",
              "workclass         0\n",
              "fnlwgt            0\n",
              "education         0\n",
              "education.num     0\n",
              "marital.status    0\n",
              "occupation        0\n",
              "relationship      0\n",
              "race              0\n",
              "sex               0\n",
              "capital.gain      0\n",
              "capital.loss      0\n",
              "hours.per.week    0\n",
              "native.country    0\n",
              "dtype: int64"
            ]
          },
          "execution_count": 25,
          "metadata": {},
          "output_type": "execute_result"
        }
      ],
      "source": [
        "data.isna().sum()"
      ]
    },
    {
      "cell_type": "code",
      "execution_count": 27,
      "metadata": {},
      "outputs": [],
      "source": [
        "missing_values_characters = [\"?\", \" \", \"\", \"NA\", \"N/A\", \"missing\"]"
      ]
    },
    {
      "cell_type": "code",
      "execution_count": 28,
      "metadata": {},
      "outputs": [],
      "source": [
        "data_missing = data.replace(missing_values_characters, float(\"nan\"))"
      ]
    },
    {
      "cell_type": "code",
      "execution_count": 30,
      "metadata": {},
      "outputs": [
        {
          "data": {
            "text/plain": [
              "age                  0\n",
              "workclass         1836\n",
              "fnlwgt               0\n",
              "education            0\n",
              "education.num        0\n",
              "marital.status       0\n",
              "occupation        1843\n",
              "relationship         0\n",
              "race                 0\n",
              "sex                  0\n",
              "capital.gain         0\n",
              "capital.loss         0\n",
              "hours.per.week       0\n",
              "native.country     583\n",
              "dtype: int64"
            ]
          },
          "execution_count": 30,
          "metadata": {},
          "output_type": "execute_result"
        }
      ],
      "source": [
        "data_missing.isna().sum()"
      ]
    },
    {
      "cell_type": "code",
      "execution_count": 32,
      "metadata": {},
      "outputs": [
        {
          "data": {
            "text/plain": [
              "age               0.00\n",
              "workclass         5.64\n",
              "fnlwgt            0.00\n",
              "education         0.00\n",
              "education.num     0.00\n",
              "marital.status    0.00\n",
              "occupation        5.66\n",
              "relationship      0.00\n",
              "race              0.00\n",
              "sex               0.00\n",
              "capital.gain      0.00\n",
              "capital.loss      0.00\n",
              "hours.per.week    0.00\n",
              "native.country    1.79\n",
              "dtype: float64"
            ]
          },
          "execution_count": 32,
          "metadata": {},
          "output_type": "execute_result"
        }
      ],
      "source": [
        "round(data_missing.isna().sum()/data.shape[0]*100, 2)"
      ]
    },
    {
      "cell_type": "markdown",
      "metadata": {},
      "source": [
        "- We have some missing values in `workclass`, `occupation` and `native.country` variables."
      ]
    },
    {
      "cell_type": "markdown",
      "metadata": {},
      "source": [
        "## Duplicated values"
      ]
    },
    {
      "cell_type": "code",
      "execution_count": 34,
      "metadata": {},
      "outputs": [
        {
          "data": {
            "text/plain": [
              "25"
            ]
          },
          "execution_count": 34,
          "metadata": {},
          "output_type": "execute_result"
        }
      ],
      "source": [
        "data_missing.duplicated().sum()"
      ]
    },
    {
      "cell_type": "markdown",
      "metadata": {},
      "source": [
        "- We have 25 duplicated rows in our dataset."
      ]
    },
    {
      "cell_type": "code",
      "execution_count": 44,
      "metadata": {},
      "outputs": [
        {
          "data": {
            "text/html": [
              "<div>\n",
              "<style scoped>\n",
              "    .dataframe tbody tr th:only-of-type {\n",
              "        vertical-align: middle;\n",
              "    }\n",
              "\n",
              "    .dataframe tbody tr th {\n",
              "        vertical-align: top;\n",
              "    }\n",
              "\n",
              "    .dataframe thead th {\n",
              "        text-align: right;\n",
              "    }\n",
              "</style>\n",
              "<table border=\"1\" class=\"dataframe\">\n",
              "  <thead>\n",
              "    <tr style=\"text-align: right;\">\n",
              "      <th></th>\n",
              "      <th>age</th>\n",
              "      <th>workclass</th>\n",
              "      <th>fnlwgt</th>\n",
              "      <th>education</th>\n",
              "      <th>education.num</th>\n",
              "      <th>marital.status</th>\n",
              "      <th>occupation</th>\n",
              "      <th>relationship</th>\n",
              "      <th>race</th>\n",
              "      <th>sex</th>\n",
              "      <th>capital.gain</th>\n",
              "      <th>capital.loss</th>\n",
              "      <th>hours.per.week</th>\n",
              "      <th>native.country</th>\n",
              "    </tr>\n",
              "  </thead>\n",
              "  <tbody>\n",
              "    <tr>\n",
              "      <th>19622</th>\n",
              "      <td>19</td>\n",
              "      <td>Private</td>\n",
              "      <td>97261</td>\n",
              "      <td>HS-grad</td>\n",
              "      <td>9</td>\n",
              "      <td>Never-married</td>\n",
              "      <td>Farming-fishing</td>\n",
              "      <td>Not-in-family</td>\n",
              "      <td>White</td>\n",
              "      <td>Male</td>\n",
              "      <td>0</td>\n",
              "      <td>0</td>\n",
              "      <td>40</td>\n",
              "      <td>United-States</td>\n",
              "    </tr>\n",
              "    <tr>\n",
              "      <th>20507</th>\n",
              "      <td>19</td>\n",
              "      <td>Private</td>\n",
              "      <td>97261</td>\n",
              "      <td>HS-grad</td>\n",
              "      <td>9</td>\n",
              "      <td>Never-married</td>\n",
              "      <td>Farming-fishing</td>\n",
              "      <td>Not-in-family</td>\n",
              "      <td>White</td>\n",
              "      <td>Male</td>\n",
              "      <td>0</td>\n",
              "      <td>0</td>\n",
              "      <td>40</td>\n",
              "      <td>United-States</td>\n",
              "    </tr>\n",
              "    <tr>\n",
              "      <th>10307</th>\n",
              "      <td>19</td>\n",
              "      <td>Private</td>\n",
              "      <td>138153</td>\n",
              "      <td>Some-college</td>\n",
              "      <td>10</td>\n",
              "      <td>Never-married</td>\n",
              "      <td>Adm-clerical</td>\n",
              "      <td>Own-child</td>\n",
              "      <td>White</td>\n",
              "      <td>Female</td>\n",
              "      <td>0</td>\n",
              "      <td>0</td>\n",
              "      <td>10</td>\n",
              "      <td>United-States</td>\n",
              "    </tr>\n",
              "    <tr>\n",
              "      <th>22783</th>\n",
              "      <td>19</td>\n",
              "      <td>Private</td>\n",
              "      <td>138153</td>\n",
              "      <td>Some-college</td>\n",
              "      <td>10</td>\n",
              "      <td>Never-married</td>\n",
              "      <td>Adm-clerical</td>\n",
              "      <td>Own-child</td>\n",
              "      <td>White</td>\n",
              "      <td>Female</td>\n",
              "      <td>0</td>\n",
              "      <td>0</td>\n",
              "      <td>10</td>\n",
              "      <td>United-States</td>\n",
              "    </tr>\n",
              "    <tr>\n",
              "      <th>17456</th>\n",
              "      <td>19</td>\n",
              "      <td>Private</td>\n",
              "      <td>146679</td>\n",
              "      <td>Some-college</td>\n",
              "      <td>10</td>\n",
              "      <td>Never-married</td>\n",
              "      <td>Exec-managerial</td>\n",
              "      <td>Own-child</td>\n",
              "      <td>Black</td>\n",
              "      <td>Male</td>\n",
              "      <td>0</td>\n",
              "      <td>0</td>\n",
              "      <td>30</td>\n",
              "      <td>United-States</td>\n",
              "    </tr>\n",
              "    <tr>\n",
              "      <th>22934</th>\n",
              "      <td>19</td>\n",
              "      <td>Private</td>\n",
              "      <td>146679</td>\n",
              "      <td>Some-college</td>\n",
              "      <td>10</td>\n",
              "      <td>Never-married</td>\n",
              "      <td>Exec-managerial</td>\n",
              "      <td>Own-child</td>\n",
              "      <td>Black</td>\n",
              "      <td>Male</td>\n",
              "      <td>0</td>\n",
              "      <td>0</td>\n",
              "      <td>30</td>\n",
              "      <td>United-States</td>\n",
              "    </tr>\n",
              "    <tr>\n",
              "      <th>7615</th>\n",
              "      <td>19</td>\n",
              "      <td>Private</td>\n",
              "      <td>251579</td>\n",
              "      <td>Some-college</td>\n",
              "      <td>10</td>\n",
              "      <td>Never-married</td>\n",
              "      <td>Other-service</td>\n",
              "      <td>Own-child</td>\n",
              "      <td>White</td>\n",
              "      <td>Male</td>\n",
              "      <td>0</td>\n",
              "      <td>0</td>\n",
              "      <td>14</td>\n",
              "      <td>United-States</td>\n",
              "    </tr>\n",
              "    <tr>\n",
              "      <th>32065</th>\n",
              "      <td>19</td>\n",
              "      <td>Private</td>\n",
              "      <td>251579</td>\n",
              "      <td>Some-college</td>\n",
              "      <td>10</td>\n",
              "      <td>Never-married</td>\n",
              "      <td>Other-service</td>\n",
              "      <td>Own-child</td>\n",
              "      <td>White</td>\n",
              "      <td>Male</td>\n",
              "      <td>0</td>\n",
              "      <td>0</td>\n",
              "      <td>14</td>\n",
              "      <td>United-States</td>\n",
              "    </tr>\n",
              "    <tr>\n",
              "      <th>9269</th>\n",
              "      <td>20</td>\n",
              "      <td>Private</td>\n",
              "      <td>107658</td>\n",
              "      <td>Some-college</td>\n",
              "      <td>10</td>\n",
              "      <td>Never-married</td>\n",
              "      <td>Tech-support</td>\n",
              "      <td>Not-in-family</td>\n",
              "      <td>White</td>\n",
              "      <td>Female</td>\n",
              "      <td>0</td>\n",
              "      <td>0</td>\n",
              "      <td>10</td>\n",
              "      <td>United-States</td>\n",
              "    </tr>\n",
              "    <tr>\n",
              "      <th>14346</th>\n",
              "      <td>20</td>\n",
              "      <td>Private</td>\n",
              "      <td>107658</td>\n",
              "      <td>Some-college</td>\n",
              "      <td>10</td>\n",
              "      <td>Never-married</td>\n",
              "      <td>Tech-support</td>\n",
              "      <td>Not-in-family</td>\n",
              "      <td>White</td>\n",
              "      <td>Female</td>\n",
              "      <td>0</td>\n",
              "      <td>0</td>\n",
              "      <td>10</td>\n",
              "      <td>United-States</td>\n",
              "    </tr>\n",
              "  </tbody>\n",
              "</table>\n",
              "</div>"
            ],
            "text/plain": [
              "       age workclass  fnlwgt     education  education.num marital.status  \\\n",
              "19622   19   Private   97261       HS-grad              9  Never-married   \n",
              "20507   19   Private   97261       HS-grad              9  Never-married   \n",
              "10307   19   Private  138153  Some-college             10  Never-married   \n",
              "22783   19   Private  138153  Some-college             10  Never-married   \n",
              "17456   19   Private  146679  Some-college             10  Never-married   \n",
              "22934   19   Private  146679  Some-college             10  Never-married   \n",
              "7615    19   Private  251579  Some-college             10  Never-married   \n",
              "32065   19   Private  251579  Some-college             10  Never-married   \n",
              "9269    20   Private  107658  Some-college             10  Never-married   \n",
              "14346   20   Private  107658  Some-college             10  Never-married   \n",
              "\n",
              "            occupation   relationship   race     sex  capital.gain  \\\n",
              "19622  Farming-fishing  Not-in-family  White    Male             0   \n",
              "20507  Farming-fishing  Not-in-family  White    Male             0   \n",
              "10307     Adm-clerical      Own-child  White  Female             0   \n",
              "22783     Adm-clerical      Own-child  White  Female             0   \n",
              "17456  Exec-managerial      Own-child  Black    Male             0   \n",
              "22934  Exec-managerial      Own-child  Black    Male             0   \n",
              "7615     Other-service      Own-child  White    Male             0   \n",
              "32065    Other-service      Own-child  White    Male             0   \n",
              "9269      Tech-support  Not-in-family  White  Female             0   \n",
              "14346     Tech-support  Not-in-family  White  Female             0   \n",
              "\n",
              "       capital.loss  hours.per.week native.country  \n",
              "19622             0              40  United-States  \n",
              "20507             0              40  United-States  \n",
              "10307             0              10  United-States  \n",
              "22783             0              10  United-States  \n",
              "17456             0              30  United-States  \n",
              "22934             0              30  United-States  \n",
              "7615              0              14  United-States  \n",
              "32065             0              14  United-States  \n",
              "9269              0              10  United-States  \n",
              "14346             0              10  United-States  "
            ]
          },
          "execution_count": 44,
          "metadata": {},
          "output_type": "execute_result"
        }
      ],
      "source": [
        "data_missing.loc[data_missing.duplicated(keep=False)].sort_values(by=data_missing.columns.tolist()).head(10)"
      ]
    },
    {
      "cell_type": "code",
      "execution_count": 50,
      "metadata": {},
      "outputs": [],
      "source": [
        "duplicated = data_missing.loc[data_missing.duplicated(keep=False)].index.tolist()"
      ]
    },
    {
      "cell_type": "code",
      "execution_count": 51,
      "metadata": {},
      "outputs": [],
      "source": [
        "# removing duplicate rows \n",
        "data_unique = data_missing[data_missing.index.isin(duplicated)==False]\n",
        "target_unique = target[data_missing.index.isin(duplicated)==False]"
      ]
    },
    {
      "cell_type": "code",
      "execution_count": 52,
      "metadata": {},
      "outputs": [
        {
          "data": {
            "text/plain": [
              "((32512, 14), (32561, 14))"
            ]
          },
          "execution_count": 52,
          "metadata": {},
          "output_type": "execute_result"
        }
      ],
      "source": [
        "data_unique.shape, data_missing.shape"
      ]
    },
    {
      "cell_type": "code",
      "execution_count": 54,
      "metadata": {},
      "outputs": [
        {
          "data": {
            "text/plain": [
              "49"
            ]
          },
          "execution_count": 54,
          "metadata": {},
          "output_type": "execute_result"
        }
      ],
      "source": [
        "-data_unique.shape[0]+ data_missing.shape[0]"
      ]
    },
    {
      "cell_type": "code",
      "execution_count": 55,
      "metadata": {},
      "outputs": [],
      "source": [
        "data_train, data_test, target_train, target_test = train_test_split(\n",
        "    data_unique[numerical_columns], target_unique, random_state=42\n",
        ")"
      ]
    },
    {
      "cell_type": "code",
      "execution_count": 67,
      "metadata": {},
      "outputs": [],
      "source": [
        "def compare_scalers(data_train, data_test, target_train, target_test):\n",
        "    results = {}\n",
        "    for scaler_name, scaler in {\"standard_scaler\": StandardScaler(), \"min_max_scaler\": MinMaxScaler(), \"robust_scaler\": RobustScaler()}.items():\n",
        "        model = make_pipeline(scaler, LogisticRegression())\n",
        "        start = time.time()\n",
        "        model.fit(data_train, target_train)\n",
        "        fitting_time = time.time() - start\n",
        "        accuracy = model.score(data_test, target_test)\n",
        "        results[scaler_name] = {\n",
        "            \"accuracy\": accuracy,\n",
        "            \"fitting time\": fitting_time,\n",
        "            \"iterations\": model[-1].n_iter_[0]\n",
        "            }\n",
        "    return results"
      ]
    },
    {
      "cell_type": "code",
      "execution_count": 68,
      "metadata": {},
      "outputs": [],
      "source": [
        "results = compare_scalers(data_train, data_test, target_train, target_test)"
      ]
    },
    {
      "cell_type": "code",
      "execution_count": 70,
      "metadata": {},
      "outputs": [
        {
          "data": {
            "text/html": [
              "<div>\n",
              "<style scoped>\n",
              "    .dataframe tbody tr th:only-of-type {\n",
              "        vertical-align: middle;\n",
              "    }\n",
              "\n",
              "    .dataframe tbody tr th {\n",
              "        vertical-align: top;\n",
              "    }\n",
              "\n",
              "    .dataframe thead th {\n",
              "        text-align: right;\n",
              "    }\n",
              "</style>\n",
              "<table border=\"1\" class=\"dataframe\">\n",
              "  <thead>\n",
              "    <tr style=\"text-align: right;\">\n",
              "      <th></th>\n",
              "      <th>standard_scaler</th>\n",
              "      <th>min_max_scaler</th>\n",
              "      <th>robust_scaler</th>\n",
              "    </tr>\n",
              "  </thead>\n",
              "  <tbody>\n",
              "    <tr>\n",
              "      <th>accuracy</th>\n",
              "      <td>0.797367</td>\n",
              "      <td>0.791216</td>\n",
              "      <td>0.797367</td>\n",
              "    </tr>\n",
              "    <tr>\n",
              "      <th>fitting time</th>\n",
              "      <td>0.093277</td>\n",
              "      <td>0.088850</td>\n",
              "      <td>0.267756</td>\n",
              "    </tr>\n",
              "    <tr>\n",
              "      <th>iterations</th>\n",
              "      <td>12.000000</td>\n",
              "      <td>13.000000</td>\n",
              "      <td>70.000000</td>\n",
              "    </tr>\n",
              "  </tbody>\n",
              "</table>\n",
              "</div>"
            ],
            "text/plain": [
              "              standard_scaler  min_max_scaler  robust_scaler\n",
              "accuracy             0.797367        0.791216       0.797367\n",
              "fitting time         0.093277        0.088850       0.267756\n",
              "iterations          12.000000       13.000000      70.000000"
            ]
          },
          "execution_count": 70,
          "metadata": {},
          "output_type": "execute_result"
        }
      ],
      "source": [
        "pd.DataFrame(results)"
      ]
    },
    {
      "cell_type": "code",
      "execution_count": null,
      "metadata": {},
      "outputs": [],
      "source": []
    },
    {
      "cell_type": "code",
      "execution_count": null,
      "metadata": {},
      "outputs": [],
      "source": []
    }
  ],
  "metadata": {
    "colab": {
      "provenance": []
    },
    "kernelspec": {
      "display_name": "Python 3",
      "name": "python3"
    },
    "language_info": {
      "codemirror_mode": {
        "name": "ipython",
        "version": 3
      },
      "file_extension": ".py",
      "mimetype": "text/x-python",
      "name": "python",
      "nbconvert_exporter": "python",
      "pygments_lexer": "ipython3",
      "version": "3.11.5"
    }
  },
  "nbformat": 4,
  "nbformat_minor": 0
}
