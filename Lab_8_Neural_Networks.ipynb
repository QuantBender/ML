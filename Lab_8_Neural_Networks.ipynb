{
  "cells": [
    {
      "cell_type": "markdown",
      "metadata": {
        "id": "TL5y5fY9Jy_x"
      },
      "source": [
        "# Lab 8: Neural networks\n",
        "\n",
        "In this lab we will build dense neural networks on the MNIST dataset.\n",
        "\n"
      ]
    },
    {
      "cell_type": "markdown",
      "metadata": {
        "id": "Si0yPYNqDSJk"
      },
      "source": [
        "## Load the data and create train-test splits"
      ]
    },
    {
      "cell_type": "code",
      "execution_count": 16,
      "metadata": {
        "id": "3NBJhWz9DSJl"
      },
      "outputs": [],
      "source": [
        "# Auto-setup when running on Google Colab\n",
        "if 'google.colab' in str(get_ipython()):\n",
        "    !pip install openml\n",
        "\n",
        "# General imports\n",
        "%matplotlib inline\n",
        "import numpy as np\n",
        "import pandas as pd\n",
        "import matplotlib.pyplot as plt\n",
        "import openml as oml\n",
        "import tensorflow.keras as tf\n",
        "import random\n",
        "\n",
        "from sklearn.model_selection import GridSearchCV, StratifiedKFold"
      ]
    },
    {
      "cell_type": "code",
      "execution_count": 17,
      "metadata": {},
      "outputs": [
        {
          "name": "stdout",
          "output_type": "stream",
          "text": [
            "The tensorboard extension is already loaded. To reload it, use:\n",
            "  %reload_ext tensorboard\n"
          ]
        }
      ],
      "source": [
        "# init tensorboard\n",
        "%load_ext tensorboard"
      ]
    },
    {
      "cell_type": "code",
      "execution_count": 18,
      "metadata": {},
      "outputs": [],
      "source": [
        "seed = 42\n",
        "random.seed(seed)\n",
        "np.random.seed(seed)\n",
        "tf.utils.set_random_seed(\n",
        "    seed\n",
        ")"
      ]
    },
    {
      "cell_type": "code",
      "execution_count": 19,
      "metadata": {
        "id": "9loOmluxDSJm"
      },
      "outputs": [
        {
          "name": "stderr",
          "output_type": "stream",
          "text": [
            "C:\\Users\\duamelo\\AppData\\Local\\Temp\\ipykernel_6308\\3841004139.py:2: FutureWarning: Starting from Version 0.15 `download_data`, `download_qualities`, and `download_features_meta_data` will all be ``False`` instead of ``True`` by default to enable lazy loading. To disable this message until version 0.15 explicitly set `download_data`, `download_qualities`, and `download_features_meta_data` to a bool while calling `get_dataset`.\n",
            "  mnist = oml.datasets.get_dataset(554)\n",
            "C:\\Users\\duamelo\\AppData\\Local\\Temp\\ipykernel_6308\\3841004139.py:3: FutureWarning: Support for `dataset_format='array'` will be removed in 0.15,start using `dataset_format='dataframe' to ensure your code will continue to work. You can use the dataframe's `to_numpy` function to continue using numpy arrays.\n",
            "  X, y, _, _ = mnist.get_data(target=mnist.default_target_attribute, dataset_format='array');\n"
          ]
        },
        {
          "data": {
            "image/png": "[encoded data removed]",
            "text/plain": [
              "<Figure size 1000x500 with 5 Axes>"
            ]
          },
          "metadata": {},
          "output_type": "display_data"
        }
      ],
      "source": [
        "# Download MNIST data. Takes a while the first time.\n",
        "mnist = oml.datasets.get_dataset(554)\n",
        "X, y, _, _ = mnist.get_data(target=mnist.default_target_attribute, dataset_format='array');\n",
        "X = X.reshape(70000, 28, 28)\n",
        "\n",
        "# Take some random examples\n",
        "from random import randint\n",
        "fig, axes = plt.subplots(1, 5,  figsize=(10, 5))\n",
        "for i in range(5):\n",
        "    n = randint(0,70000)\n",
        "    axes[i].imshow(X[n], cmap=plt.cm.gray_r)\n",
        "    axes[i].set_xticks([])\n",
        "    axes[i].set_yticks([])\n",
        "    axes[i].set_xlabel(\"{}\".format(y[n]))\n",
        "plt.show();"
      ]
    },
    {
      "cell_type": "code",
      "execution_count": 20,
      "metadata": {},
      "outputs": [
        {
          "data": {
            "text/plain": [
              "array([5, 0, 4, ..., 4, 5, 6])"
            ]
          },
          "execution_count": 20,
          "metadata": {},
          "output_type": "execute_result"
        }
      ],
      "source": [
        "y"
      ]
    },
    {
      "cell_type": "code",
      "execution_count": 21,
      "metadata": {
        "id": "JZlvdpyYKx7V"
      },
      "outputs": [],
      "source": [
        "# For MNIST, there exists a predefined stratified train-test split of 60000-10000. We therefore don't shuffle or stratify here.\n",
        "from sklearn.model_selection import train_test_split\n",
        "X_train, X_test, y_train, y_test = train_test_split(X, y, train_size=60000, random_state=0, stratify=y)"
      ]
    },
    {
      "cell_type": "code",
      "execution_count": 22,
      "metadata": {},
      "outputs": [],
      "source": [
        "X_valid, X_dev, y_valid, y_dev = train_test_split(X_train, y_train, train_size=48000, random_state=0, stratify=y_train)"
      ]
    },
    {
      "cell_type": "markdown",
      "metadata": {
        "id": "8ldP-5z1B2vL"
      },
      "source": [
        "## Exercise 1: Preprocessing\n",
        "* Normalize the data: map each feature value from its current representation (an integer between 0 and 255) to a floating-point value between 0 and 1.0.\n",
        "* Store the floating-point values in `x_train_normalized` and `x_test_normalized`.\n",
        "* Map the class label to a on-hot-encoded value. Store in `y_train_encoded` and `y_test_encoded`."
      ]
    },
    {
      "cell_type": "code",
      "execution_count": 23,
      "metadata": {},
      "outputs": [],
      "source": [
        "x_train_normalized = X_train.astype('float32') / 255\n",
        "x_valid_normalized = X_valid.astype('float32') / 255\n",
        "x_dev_normalized = X_dev.astype('float32') / 255\n",
        "\n",
        "y_train_encoded = tf.utils.to_categorical(y_train, 10)\n",
        "y_valid_encoded = tf.utils.to_categorical(y_valid, 10)\n",
        "y_dev_encoded = tf.utils.to_categorical(y_dev, 10)"
      ]
    },
    {
      "cell_type": "markdown",
      "metadata": {
        "id": "3014ezH3C7jT"
      },
      "source": [
        "## Exercise 2: Create a deep neural net model\n",
        "\n",
        "Implement a `create_model` function which defines the topography of the deep neural net, specifying the following:\n",
        "\n",
        "* The number of layers in the deep neural net: Use 2 dense layers for now.\n",
        "* The number of nodes in each layer: these are parameters of your function.\n",
        "* Any regularization layers. Add at least one dropout layer.\n",
        "* The optimizer and learning rate. Make the learning rate a parameter of your function as well.\n",
        "\n",
        "Consider:\n",
        "* What should be the shape of the input layer?\n",
        "* Which activation function you will need for the last layer, since this is a 10-class classification problem?"
      ]
    },
    {
      "cell_type": "code",
      "execution_count": 24,
      "metadata": {
        "id": "tLOsQ4l5DSJo"
      },
      "outputs": [],
      "source": [
        "### Create and compile a 'deep' neural net\n",
        "def create_model(layer_1_units=32, layer_2_units=10, learning_rate=0.003, dropout_rate=0.3):\n",
        "    model = tf.models.Sequential()\n",
        "    model.add(tf.layers.Flatten(input_shape=(28, 28)))\n",
        "    model.add(tf.layers.Dense(layer_1_units, activation='relu'))\n",
        "    model.add(tf.layers.Dropout(dropout_rate))\n",
        "    model.add(tf.layers.Dense(layer_2_units, activation='softmax'))\n",
        "    \n",
        "    \n",
        "    model.compile(optimizer=tf.optimizers.Adam(learning_rate=learning_rate),\n",
        "                  loss='categorical_crossentropy',\n",
        "                  metrics=['accuracy'])\n",
        "    return model"
      ]
    },
    {
      "cell_type": "code",
      "execution_count": 25,
      "metadata": {},
      "outputs": [
        {
          "name": "stdout",
          "output_type": "stream",
          "text": [
            "Model: \"sequential_1\"\n",
            "_________________________________________________________________\n",
            " Layer (type)                Output Shape              Param #   \n",
            "=================================================================\n",
            " flatten_1 (Flatten)         (None, 784)               0         \n",
            "                                                                 \n",
            " dense_2 (Dense)             (None, 32)                25120     \n",
            "                                                                 \n",
            " dropout_1 (Dropout)         (None, 32)                0         \n",
            "                                                                 \n",
            " dense_3 (Dense)             (None, 10)                330       \n",
            "                                                                 \n",
            "=================================================================\n",
            "Total params: 25450 (99.41 KB)\n",
            "Trainable params: 25450 (99.41 KB)\n",
            "Non-trainable params: 0 (0.00 Byte)\n",
            "_________________________________________________________________\n"
          ]
        }
      ],
      "source": [
        "model1 = create_model()\n",
        "model1.summary()"
      ]
    },
    {
      "cell_type": "markdown",
      "metadata": {
        "id": "bTJ7vuCvDSJp"
      },
      "source": [
        "## Exercise 3: Create a training function\n",
        "Implement a `train_model` function which trains and evaluates a given model.\n",
        "It should do a train-validation split and report the train and validation loss and accuracy, and return the training history."
      ]
    },
    {
      "cell_type": "code",
      "execution_count": 26,
      "metadata": {
        "id": "Jse-vIdKDSJq"
      },
      "outputs": [],
      "source": [
        "def train_model(model, X, y, validation_split=0.2, epochs=10, batch_size=None, eval_set=None, verbose=True):\n",
        "    \"\"\"\n",
        "    model: the model to train\n",
        "    X, y: the training data and labels\n",
        "    validation_split: the percentage of data set aside for the validation set\n",
        "    epochs: the number of epochs to train for\n",
        "    batch_size: the batch size for minibatch SGD\n",
        "    eval_set: if not None, a tuple (X_val, y_val) with a validation set to evaluate the model on\n",
        "    \"\"\"\n",
        "    \n",
        "    if eval_set is None:\n",
        "        X_train, X_val, y_train, y_val = train_test_split(X, y, test_size=validation_split, random_state=0, stratify=y)\n",
        "    else:\n",
        "        X_train, y_train = X, y\n",
        "        X_val, y_val = eval_set\n",
        "    \n",
        "    early_stopping = tf.callbacks.EarlyStopping(\n",
        "        monitor='val_loss',\n",
        "        patience=5,\n",
        "        verbose=1,\n",
        "        restore_best_weights=True)\n",
        "    \n",
        "    history = model.fit(X_train, y_train, validation_data=(X_val, y_val), epochs=epochs, batch_size=batch_size,\n",
        "                        verbose=verbose, callbacks=[early_stopping])\n",
        "    \n",
        "    \n",
        "    return history"
      ]
    },
    {
      "cell_type": "markdown",
      "metadata": {
        "id": "D-IXYVfvM4gD"
      },
      "source": [
        "## Exercise 4: Evaluate the model\n",
        "\n",
        "Train the model with a learning rate of 0.003, 50 epochs, batch size 4000, and a validation set that is 20% of the total training data.\n",
        "Use default settings otherwise. Plot the learning curve of the loss, validation loss, accuracy, and validation accuracy. Finally, report the performance on the test set.\n",
        "\n",
        "Feel free to use the plotting function below, or implement the callback from the tutorial to see results in real time."
      ]
    },
    {
      "cell_type": "code",
      "execution_count": 27,
      "metadata": {
        "cellView": "form",
        "id": "QF0BFRXTOeR3"
      },
      "outputs": [
        {
          "name": "stdout",
          "output_type": "stream",
          "text": [
            "Epoch 1/50\n",
            "15/15 [==============================] - 1s 24ms/step - loss: 1.6474 - accuracy: 0.4550 - val_loss: 0.9120 - val_accuracy: 0.7808\n",
            "Epoch 2/50\n",
            "15/15 [==============================] - 0s 13ms/step - loss: 0.8804 - accuracy: 0.7326 - val_loss: 0.5375 - val_accuracy: 0.8647\n",
            "Epoch 3/50\n",
            "15/15 [==============================] - 0s 13ms/step - loss: 0.6465 - accuracy: 0.8040 - val_loss: 0.4203 - val_accuracy: 0.8874\n",
            "Epoch 4/50\n",
            "15/15 [==============================] - 0s 12ms/step - loss: 0.5501 - accuracy: 0.8346 - val_loss: 0.3649 - val_accuracy: 0.8994\n",
            "Epoch 5/50\n",
            "15/15 [==============================] - 0s 17ms/step - loss: 0.4963 - accuracy: 0.8507 - val_loss: 0.3321 - val_accuracy: 0.9093\n",
            "Epoch 6/50\n",
            "15/15 [==============================] - 0s 13ms/step - loss: 0.4619 - accuracy: 0.8617 - val_loss: 0.3112 - val_accuracy: 0.9147\n",
            "Epoch 7/50\n",
            "15/15 [==============================] - 0s 13ms/step - loss: 0.4384 - accuracy: 0.8683 - val_loss: 0.2924 - val_accuracy: 0.9173\n",
            "Epoch 8/50\n",
            "15/15 [==============================] - 0s 13ms/step - loss: 0.4143 - accuracy: 0.8760 - val_loss: 0.2776 - val_accuracy: 0.9219\n",
            "Epoch 9/50\n",
            "15/15 [==============================] - 0s 13ms/step - loss: 0.3957 - accuracy: 0.8814 - val_loss: 0.2641 - val_accuracy: 0.9260\n",
            "Epoch 10/50\n",
            "15/15 [==============================] - 0s 13ms/step - loss: 0.3813 - accuracy: 0.8872 - val_loss: 0.2517 - val_accuracy: 0.9292\n",
            "Epoch 11/50\n",
            "15/15 [==============================] - 0s 12ms/step - loss: 0.3666 - accuracy: 0.8913 - val_loss: 0.2433 - val_accuracy: 0.9312\n",
            "Epoch 12/50\n",
            "15/15 [==============================] - 0s 13ms/step - loss: 0.3525 - accuracy: 0.8939 - val_loss: 0.2325 - val_accuracy: 0.9342\n",
            "Epoch 13/50\n",
            "15/15 [==============================] - 0s 12ms/step - loss: 0.3427 - accuracy: 0.8978 - val_loss: 0.2246 - val_accuracy: 0.9357\n",
            "Epoch 14/50\n",
            "15/15 [==============================] - 0s 13ms/step - loss: 0.3339 - accuracy: 0.8995 - val_loss: 0.2173 - val_accuracy: 0.9384\n",
            "Epoch 15/50\n",
            "15/15 [==============================] - 0s 22ms/step - loss: 0.3268 - accuracy: 0.9025 - val_loss: 0.2118 - val_accuracy: 0.9398\n",
            "Epoch 16/50\n",
            "15/15 [==============================] - 0s 21ms/step - loss: 0.3187 - accuracy: 0.9043 - val_loss: 0.2061 - val_accuracy: 0.9413\n",
            "Epoch 17/50\n",
            "15/15 [==============================] - 0s 30ms/step - loss: 0.3135 - accuracy: 0.9051 - val_loss: 0.2010 - val_accuracy: 0.9421\n",
            "Epoch 18/50\n",
            "15/15 [==============================] - 0s 17ms/step - loss: 0.3069 - accuracy: 0.9066 - val_loss: 0.1963 - val_accuracy: 0.9427\n",
            "Epoch 19/50\n",
            "15/15 [==============================] - 0s 20ms/step - loss: 0.3042 - accuracy: 0.9085 - val_loss: 0.1911 - val_accuracy: 0.9443\n",
            "Epoch 20/50\n",
            "15/15 [==============================] - 0s 18ms/step - loss: 0.2951 - accuracy: 0.9107 - val_loss: 0.1888 - val_accuracy: 0.9464\n",
            "Epoch 21/50\n",
            "15/15 [==============================] - 0s 19ms/step - loss: 0.2924 - accuracy: 0.9114 - val_loss: 0.1838 - val_accuracy: 0.9459\n",
            "Epoch 22/50\n",
            "15/15 [==============================] - 0s 18ms/step - loss: 0.2879 - accuracy: 0.9123 - val_loss: 0.1791 - val_accuracy: 0.9473\n",
            "Epoch 23/50\n",
            "15/15 [==============================] - 0s 17ms/step - loss: 0.2853 - accuracy: 0.9125 - val_loss: 0.1759 - val_accuracy: 0.9481\n",
            "Epoch 24/50\n",
            "15/15 [==============================] - 0s 17ms/step - loss: 0.2806 - accuracy: 0.9145 - val_loss: 0.1735 - val_accuracy: 0.9492\n",
            "Epoch 25/50\n",
            "15/15 [==============================] - 0s 17ms/step - loss: 0.2782 - accuracy: 0.9161 - val_loss: 0.1708 - val_accuracy: 0.9508\n",
            "Epoch 26/50\n",
            "15/15 [==============================] - 0s 19ms/step - loss: 0.2754 - accuracy: 0.9164 - val_loss: 0.1688 - val_accuracy: 0.9519\n",
            "Epoch 27/50\n",
            "15/15 [==============================] - 0s 23ms/step - loss: 0.2714 - accuracy: 0.9159 - val_loss: 0.1654 - val_accuracy: 0.9518\n",
            "Epoch 28/50\n",
            "15/15 [==============================] - 0s 19ms/step - loss: 0.2662 - accuracy: 0.9193 - val_loss: 0.1629 - val_accuracy: 0.9513\n",
            "Epoch 29/50\n",
            "15/15 [==============================] - 0s 18ms/step - loss: 0.2646 - accuracy: 0.9191 - val_loss: 0.1606 - val_accuracy: 0.9537\n",
            "Epoch 30/50\n",
            "15/15 [==============================] - 0s 17ms/step - loss: 0.2635 - accuracy: 0.9175 - val_loss: 0.1582 - val_accuracy: 0.9552\n",
            "Epoch 31/50\n",
            "15/15 [==============================] - 0s 17ms/step - loss: 0.2614 - accuracy: 0.9202 - val_loss: 0.1591 - val_accuracy: 0.9544\n",
            "Epoch 32/50\n",
            "15/15 [==============================] - 0s 18ms/step - loss: 0.2569 - accuracy: 0.9208 - val_loss: 0.1544 - val_accuracy: 0.9555\n",
            "Epoch 33/50\n",
            "15/15 [==============================] - 0s 17ms/step - loss: 0.2571 - accuracy: 0.9223 - val_loss: 0.1512 - val_accuracy: 0.9576\n",
            "Epoch 34/50\n",
            "15/15 [==============================] - 0s 17ms/step - loss: 0.2522 - accuracy: 0.9223 - val_loss: 0.1497 - val_accuracy: 0.9561\n",
            "Epoch 35/50\n",
            "15/15 [==============================] - 0s 17ms/step - loss: 0.2543 - accuracy: 0.9218 - val_loss: 0.1478 - val_accuracy: 0.9578\n",
            "Epoch 36/50\n",
            "15/15 [==============================] - 0s 18ms/step - loss: 0.2482 - accuracy: 0.9235 - val_loss: 0.1471 - val_accuracy: 0.9575\n",
            "Epoch 37/50\n",
            "15/15 [==============================] - 0s 17ms/step - loss: 0.2486 - accuracy: 0.9217 - val_loss: 0.1455 - val_accuracy: 0.9576\n",
            "Epoch 38/50\n",
            "15/15 [==============================] - 0s 19ms/step - loss: 0.2450 - accuracy: 0.9248 - val_loss: 0.1421 - val_accuracy: 0.9589\n",
            "Epoch 39/50\n",
            "15/15 [==============================] - 0s 17ms/step - loss: 0.2452 - accuracy: 0.9239 - val_loss: 0.1411 - val_accuracy: 0.9591\n",
            "Epoch 40/50\n",
            "15/15 [==============================] - 0s 18ms/step - loss: 0.2428 - accuracy: 0.9236 - val_loss: 0.1399 - val_accuracy: 0.9596\n",
            "Epoch 41/50\n",
            "15/15 [==============================] - 0s 17ms/step - loss: 0.2406 - accuracy: 0.9259 - val_loss: 0.1389 - val_accuracy: 0.9594\n",
            "Epoch 42/50\n",
            "15/15 [==============================] - 0s 17ms/step - loss: 0.2409 - accuracy: 0.9256 - val_loss: 0.1370 - val_accuracy: 0.9603\n",
            "Epoch 43/50\n",
            "15/15 [==============================] - 0s 17ms/step - loss: 0.2373 - accuracy: 0.9260 - val_loss: 0.1362 - val_accuracy: 0.9613\n",
            "Epoch 44/50\n",
            "15/15 [==============================] - 0s 18ms/step - loss: 0.2357 - accuracy: 0.9265 - val_loss: 0.1366 - val_accuracy: 0.9609\n",
            "Epoch 45/50\n",
            "15/15 [==============================] - 0s 20ms/step - loss: 0.2351 - accuracy: 0.9273 - val_loss: 0.1331 - val_accuracy: 0.9621\n",
            "Epoch 46/50\n",
            "15/15 [==============================] - 0s 21ms/step - loss: 0.2380 - accuracy: 0.9257 - val_loss: 0.1323 - val_accuracy: 0.9613\n",
            "Epoch 47/50\n",
            "15/15 [==============================] - 0s 21ms/step - loss: 0.2344 - accuracy: 0.9262 - val_loss: 0.1316 - val_accuracy: 0.9612\n",
            "Epoch 48/50\n",
            "15/15 [==============================] - 0s 25ms/step - loss: 0.2362 - accuracy: 0.9253 - val_loss: 0.1305 - val_accuracy: 0.9619\n",
            "Epoch 49/50\n",
            "15/15 [==============================] - 0s 22ms/step - loss: 0.2296 - accuracy: 0.9271 - val_loss: 0.1275 - val_accuracy: 0.9624\n",
            "Epoch 50/50\n",
            "15/15 [==============================] - 0s 22ms/step - loss: 0.2322 - accuracy: 0.9258 - val_loss: 0.1270 - val_accuracy: 0.9628\n"
          ]
        }
      ],
      "source": [
        "# Helper plotting function\n",
        "#\n",
        "# history: the history object returned by the fit function\n",
        "history = train_model(model1, x_train_normalized, y_train_encoded, epochs=50, batch_size=4000, eval_set=(x_dev_normalized, y_dev_encoded))\n",
        "\n",
        "# list_of_metrics: the metrics to plot\n",
        "list_of_metrics = ['accuracy', 'loss']\n",
        "\n",
        "def plot_curve(history, list_of_metrics):\n",
        "\n",
        "    plt.figure()\n",
        "    plt.xlabel(\"Epoch\")\n",
        "    plt.ylabel(\"Value\")\n",
        "\n",
        "    epochs = history.epoch\n",
        "    hist = pd.DataFrame(history.history)\n",
        "\n",
        "    for m in list_of_metrics:\n",
        "        x = hist[m]\n",
        "        plt.plot(epochs[1:], x[1:], label=m, lw=2)\n",
        "\n",
        "    plt.legend()"
      ]
    },
    {
      "cell_type": "code",
      "execution_count": 28,
      "metadata": {},
      "outputs": [
        {
          "data": {
            "image/png": "[encoded data removed]",
            "text/plain": [
              "<Figure size 800x500 with 1 Axes>"
            ]
          },
          "metadata": {},
          "output_type": "display_data"
        }
      ],
      "source": [
        "pd.DataFrame(history.history).plot(figsize=(8, 5))\n",
        "plt.ylabel(\"Loss\")\n",
        "plt.xlabel(\"Epoch\")\n",
        "plt.title(\"Training and Validation Loss and Accuracy\")\n",
        "plt.show()"
      ]
    },
    {
      "cell_type": "code",
      "execution_count": 29,
      "metadata": {},
      "outputs": [
        {
          "name": "stdout",
          "output_type": "stream",
          "text": [
            "1500/1500 [==============================] - 2s 2ms/step\n",
            "Accuracy: 0.9655625\n"
          ]
        }
      ],
      "source": [
        "y_pred = model1.predict(x_valid_normalized)\n",
        "y_pred = np.argmax(y_pred, axis=1)\n",
        "accuracy = np.mean(y_pred == y_valid)\n",
        "print(f\"Accuracy: {accuracy}\")"
      ]
    },
    {
      "cell_type": "markdown",
      "metadata": {
        "id": "Y5IKmk7D49_n"
      },
      "source": [
        "## Exercise 5: Optimize the model\n",
        "\n",
        "Try to optimize the model, either manually or with a tuning method. At least optimize the following:\n",
        "* the number of hidden layers\n",
        "* the number of nodes in each layer\n",
        "* the amount of dropout layers and the dropout rate\n",
        "\n",
        "Try to reach at least 96% accuracy against the test set."
      ]
    },
    {
      "cell_type": "code",
      "execution_count": 30,
      "metadata": {},
      "outputs": [
        {
          "name": "stdout",
          "output_type": "stream",
          "text": [
            "Restoring model weights from the end of the best epoch: 43.\n",
            "Epoch 48: early stopping\n",
            "1500/1500 [==============================] - 3s 2ms/step\n",
            "32, 10, 0.001, 0.2, 32, 50, 0.9604499936103821, 0.9838333129882812, 0.9861666666666666\n",
            "Restoring model weights from the end of the best epoch: 67.\n",
            "Epoch 72: early stopping\n",
            "1500/1500 [==============================] - 3s 2ms/step\n",
            "32, 10, 0.001, 0.2, 32, 100, 0.9673833250999451, 0.9890833497047424, 0.9902708333333333\n"
          ]
        }
      ],
      "source": [
        "grid_search = {\n",
        "    'layer_1_units': [32, 64],\n",
        "    'layer_2_units': [10],\n",
        "    'learning_rate': [0.001, 0.01],\n",
        "    'dropout_rate': [0.2, 0.5],\n",
        "    'batch_size': [32, 64, 2000, 4000],\n",
        "    'epochs': [50, 100, 200]\n",
        "    \n",
        "}\n",
        "\n",
        "# manual hyperparameter tuning\n",
        "results = pd.DataFrame(columns=['layer_1_units', 'layer_2_units', 'learning_rate', 'dropout_rate', 'train_accuracy',\n",
        "                                'validation_accuracy', 'test_accuracy'])\n",
        "for layer_1_units in grid_search['layer_1_units']:\n",
        "    for layer_2_units in grid_search['layer_2_units']:\n",
        "        for learning_rate in grid_search['learning_rate']:\n",
        "            for dropout_rate in grid_search['dropout_rate']:\n",
        "                for batch_size in grid_search['batch_size']:\n",
        "                    for epochs in grid_search['epochs']:\n",
        "                        model = create_model(layer_1_units, layer_2_units, learning_rate, dropout_rate)\n",
        "                        history = train_model(model, x_train_normalized, y_train_encoded, epochs=epochs, batch_size=batch_size, eval_set=(x_dev_normalized, y_dev_encoded), verbose=False)\n",
        "                        train_accuracy = history.history['accuracy'][-1]\n",
        "                        validation_accuracy = history.history['val_accuracy'][-1]\n",
        "                        y_pred = model.predict(x_valid_normalized)\n",
        "                        y_pred = np.argmax(y_pred, axis=1)\n",
        "                        test_accuracy = np.mean(y_pred == y_valid)\n",
        "                        # print accuracies and hyperparameters\n",
        "                        print(f\"{layer_1_units}, {layer_2_units}, {learning_rate}, {dropout_rate}, {batch_size}, {epochs}, {train_accuracy}, {validation_accuracy}, {test_accuracy}\")\n",
        "                        results = pd.concat([results, pd.DataFrame({'layer_1_units': [layer_1_units],\n",
        "                                                                    'layer_2_units': [layer_2_units],\n",
        "                                                                    'learning_rate': [learning_rate],\n",
        "                                                                    'dropout_rate': [dropout_rate],\n",
        "                                                                    'train_accuracy': [train_accuracy],\n",
        "                                                                    'validation_accuracy': [validation_accuracy],\n",
        "                                                                    'test_accuracy': [test_accuracy]}, index=[f\"{layer_1_units}_{layer_2_units}_{learning_rate}_{dropout_rate}_{batch_size}_{epochs}\"])])\n"
      ]
    },
    {
      "cell_type": "code",
      "execution_count": null,
      "metadata": {},
      "outputs": [],
      "source": []
    }
  ],
  "metadata": {
    "colab": {
      "private_outputs": true,
      "provenance": []
    },
    "kernelspec": {
      "display_name": "Python 3 (ipykernel)",
      "language": "python",
      "name": "python3"
    },
    "language_info": {
      "codemirror_mode": {
        "name": "ipython",
        "version": 3
      },
      "file_extension": ".py",
      "mimetype": "text/x-python",
      "name": "python",
      "nbconvert_exporter": "python",
      "pygments_lexer": "ipython3",
      "version": "3.8.18"
    }
  },
  "nbformat": 4,
  "nbformat_minor": 0
}
