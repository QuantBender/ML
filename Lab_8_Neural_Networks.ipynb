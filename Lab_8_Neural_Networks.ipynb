{
  "cells": [
    {
      "cell_type": "markdown",
      "metadata": {
        "id": "TL5y5fY9Jy_x"
      },
      "source": [
        "# Lab 8: Neural networks\n",
        "\n",
        "In this lab we will build dense neural networks on the MNIST dataset.\n",
        "\n"
      ]
    },
    {
      "cell_type": "markdown",
      "metadata": {
        "id": "Si0yPYNqDSJk"
      },
      "source": [
        "## Load the data and create train-test splits"
      ]
    },
    {
      "cell_type": "code",
      "execution_count": 81,
      "metadata": {
        "id": "3NBJhWz9DSJl"
      },
      "outputs": [],
      "source": [
        "# Auto-setup when running on Google Colab\n",
        "if 'google.colab' in str(get_ipython()):\n",
        "    !pip install openml\n",
        "\n",
        "# General imports\n",
        "%matplotlib inline\n",
        "import numpy as np\n",
        "import pandas as pd\n",
        "import matplotlib.pyplot as plt\n",
        "import openml as oml\n",
        "import tensorflow.keras as tf\n",
        "import random\n",
        "\n",
        "from sklearn.model_selection import GridSearchCV, StratifiedKFold"
      ]
    },
    {
      "cell_type": "code",
      "execution_count": 82,
      "metadata": {},
      "outputs": [
        {
          "name": "stdout",
          "output_type": "stream",
          "text": [
            "The tensorboard extension is already loaded. To reload it, use:\n",
            "  %reload_ext tensorboard\n"
          ]
        }
      ],
      "source": [
        "# init tensorboard\n",
        "%load_ext tensorboard"
      ]
    },
    {
      "cell_type": "code",
      "execution_count": 83,
      "metadata": {},
      "outputs": [],
      "source": [
        "seed = 42\n",
        "random.seed(seed)\n",
        "np.random.seed(seed)\n",
        "tf.utils.set_random_seed(\n",
        "    seed\n",
        ")"
      ]
    },
    {
      "cell_type": "code",
      "execution_count": 84,
      "metadata": {
        "id": "9loOmluxDSJm"
      },
      "outputs": [
        {
          "name": "stderr",
          "output_type": "stream",
          "text": [
            "C:\\Users\\duamelo\\AppData\\Local\\Temp\\ipykernel_11664\\3841004139.py:2: FutureWarning: Starting from Version 0.15 `download_data`, `download_qualities`, and `download_features_meta_data` will all be ``False`` instead of ``True`` by default to enable lazy loading. To disable this message until version 0.15 explicitly set `download_data`, `download_qualities`, and `download_features_meta_data` to a bool while calling `get_dataset`.\n",
            "  mnist = oml.datasets.get_dataset(554)\n",
            "C:\\Users\\duamelo\\AppData\\Local\\Temp\\ipykernel_11664\\3841004139.py:3: FutureWarning: Support for `dataset_format='array'` will be removed in 0.15,start using `dataset_format='dataframe' to ensure your code will continue to work. You can use the dataframe's `to_numpy` function to continue using numpy arrays.\n",
            "  X, y, _, _ = mnist.get_data(target=mnist.default_target_attribute, dataset_format='array');\n"
          ]
        },
        {
          "data": {
            "image/png": "[encoded data removed]",
            "text/plain": [
              "<Figure size 1000x500 with 5 Axes>"
            ]
          },
          "metadata": {},
          "output_type": "display_data"
        }
      ],
      "source": [
        "# Download MNIST data. Takes a while the first time.\n",
        "mnist = oml.datasets.get_dataset(554)\n",
        "X, y, _, _ = mnist.get_data(target=mnist.default_target_attribute, dataset_format='array');\n",
        "X = X.reshape(70000, 28, 28)\n",
        "\n",
        "# Take some random examples\n",
        "from random import randint\n",
        "fig, axes = plt.subplots(1, 5,  figsize=(10, 5))\n",
        "for i in range(5):\n",
        "    n = randint(0,70000)\n",
        "    axes[i].imshow(X[n], cmap=plt.cm.gray_r)\n",
        "    axes[i].set_xticks([])\n",
        "    axes[i].set_yticks([])\n",
        "    axes[i].set_xlabel(\"{}\".format(y[n]))\n",
        "plt.show();"
      ]
    },
    {
      "cell_type": "code",
      "execution_count": 85,
      "metadata": {},
      "outputs": [
        {
          "data": {
            "text/plain": [
              "array([5, 0, 4, ..., 4, 5, 6])"
            ]
          },
          "execution_count": 85,
          "metadata": {},
          "output_type": "execute_result"
        }
      ],
      "source": [
        "y"
      ]
    },
    {
      "cell_type": "code",
      "execution_count": 86,
      "metadata": {
        "id": "JZlvdpyYKx7V"
      },
      "outputs": [],
      "source": [
        "# For MNIST, there exists a predefined stratified train-test split of 60000-10000. We therefore don't shuffle or stratify here.\n",
        "from sklearn.model_selection import train_test_split\n",
        "X_train, X_test, y_train, y_test = train_test_split(X, y, train_size=50000, random_state=0, stratify=y)"
      ]
    },
    {
      "cell_type": "code",
      "execution_count": 87,
      "metadata": {},
      "outputs": [],
      "source": [
        "X_valid, X_dev, y_valid, y_dev = train_test_split(X_test, y_test, train_size=10000, random_state=0, stratify=y_test)"
      ]
    },
    {
      "cell_type": "markdown",
      "metadata": {
        "id": "8ldP-5z1B2vL"
      },
      "source": [
        "## Exercise 1: Preprocessing\n",
        "* Normalize the data: map each feature value from its current representation (an integer between 0 and 255) to a floating-point value between 0 and 1.0.\n",
        "* Store the floating-point values in `x_train_normalized` and `x_test_normalized`.\n",
        "* Map the class label to a on-hot-encoded value. Store in `y_train_encoded` and `y_test_encoded`."
      ]
    },
    {
      "cell_type": "code",
      "execution_count": 88,
      "metadata": {},
      "outputs": [],
      "source": [
        "x_train_normalized = X_train.astype('float32') / 255\n",
        "x_valid_normalized = X_valid.astype('float32') / 255\n",
        "x_dev_normalized = X_dev.astype('float32') / 255\n",
        "\n",
        "y_train_encoded = tf.utils.to_categorical(y_train, 10)\n",
        "y_valid_encoded = tf.utils.to_categorical(y_valid, 10)\n",
        "y_dev_encoded = tf.utils.to_categorical(y_dev, 10)"
      ]
    },
    {
      "cell_type": "markdown",
      "metadata": {
        "id": "3014ezH3C7jT"
      },
      "source": [
        "## Exercise 2: Create a deep neural net model\n",
        "\n",
        "Implement a `create_model` function which defines the topography of the deep neural net, specifying the following:\n",
        "\n",
        "* The number of layers in the deep neural net: Use 2 dense layers for now.\n",
        "* The number of nodes in each layer: these are parameters of your function.\n",
        "* Any regularization layers. Add at least one dropout layer.\n",
        "* The optimizer and learning rate. Make the learning rate a parameter of your function as well.\n",
        "\n",
        "Consider:\n",
        "* What should be the shape of the input layer?\n",
        "* Which activation function you will need for the last layer, since this is a 10-class classification problem?"
      ]
    },
    {
      "cell_type": "code",
      "execution_count": 89,
      "metadata": {
        "id": "tLOsQ4l5DSJo"
      },
      "outputs": [],
      "source": [
        "### Create and compile a 'deep' neural net\n",
        "def create_model(layer_1_units=32, layer_2_units=10, learning_rate=0.001, dropout_rate=0.3):\n",
        "    model = tf.models.Sequential()\n",
        "    model.add(tf.layers.Flatten(input_shape=(28, 28)))\n",
        "    model.add(tf.layers.Dense(layer_1_units, activation='relu'))\n",
        "    model.add(tf.layers.Dropout(dropout_rate))\n",
        "    model.add(tf.layers.Dense(layer_2_units, activation='softmax'))\n",
        "    \n",
        "    \n",
        "    model.compile(optimizer=tf.optimizers.Adam(learning_rate=learning_rate),\n",
        "                  loss='categorical_crossentropy',\n",
        "                  metrics=['accuracy'])\n",
        "    return model"
      ]
    },
    {
      "cell_type": "code",
      "execution_count": 90,
      "metadata": {},
      "outputs": [
        {
          "name": "stdout",
          "output_type": "stream",
          "text": [
            "Model: \"sequential_10\"\n",
            "_________________________________________________________________\n",
            " Layer (type)                Output Shape              Param #   \n",
            "=================================================================\n",
            " flatten_10 (Flatten)        (None, 784)               0         \n",
            "                                                                 \n",
            " dense_20 (Dense)            (None, 32)                25120     \n",
            "                                                                 \n",
            " dropout_10 (Dropout)        (None, 32)                0         \n",
            "                                                                 \n",
            " dense_21 (Dense)            (None, 10)                330       \n",
            "                                                                 \n",
            "=================================================================\n",
            "Total params: 25450 (99.41 KB)\n",
            "Trainable params: 25450 (99.41 KB)\n",
            "Non-trainable params: 0 (0.00 Byte)\n",
            "_________________________________________________________________\n"
          ]
        }
      ],
      "source": [
        "model1 = create_model()\n",
        "model1.summary()"
      ]
    },
    {
      "cell_type": "markdown",
      "metadata": {
        "id": "bTJ7vuCvDSJp"
      },
      "source": [
        "## Exercise 3: Create a training function\n",
        "Implement a `train_model` function which trains and evaluates a given model.\n",
        "It should do a train-validation split and report the train and validation loss and accuracy, and return the training history."
      ]
    },
    {
      "cell_type": "code",
      "execution_count": 91,
      "metadata": {
        "id": "Jse-vIdKDSJq"
      },
      "outputs": [],
      "source": [
        "def train_model(model, X, y, validation_split=0.1, epochs=10, batch_size=None, eval_set=None, verbose=True):\n",
        "    \"\"\"\n",
        "    model: the model to train\n",
        "    X, y: the training data and labels\n",
        "    validation_split: the percentage of data set aside for the validation set\n",
        "    epochs: the number of epochs to train for\n",
        "    batch_size: the batch size for minibatch SGD\n",
        "    eval_set: if not None, a tuple (X_val, y_val) with a validation set to evaluate the model on\n",
        "    \"\"\"\n",
        "    \n",
        "    if eval_set is None:\n",
        "        X_train, X_val, y_train, y_val = train_test_split(X, y, test_size=validation_split, random_state=0, stratify=y)\n",
        "    else:\n",
        "        X_train, y_train = X, y\n",
        "        X_val, y_val = eval_set\n",
        "    \n",
        "    early_stopping = tf.callbacks.EarlyStopping(\n",
        "        monitor='val_loss',\n",
        "        patience=5,\n",
        "        verbose=1,\n",
        "        restore_best_weights=True)\n",
        "    \n",
        "    history = model.fit(X_train, y_train, validation_data=(X_val, y_val), epochs=epochs, batch_size=batch_size,\n",
        "                        verbose=verbose, callbacks=[early_stopping])\n",
        "    \n",
        "    \n",
        "    return history"
      ]
    },
    {
      "cell_type": "markdown",
      "metadata": {
        "id": "D-IXYVfvM4gD"
      },
      "source": [
        "## Exercise 4: Evaluate the model\n",
        "\n",
        "Train the model with a learning rate of 0.003, 50 epochs, batch size 4000, and a validation set that is 20% of the total training data.\n",
        "Use default settings otherwise. Plot the learning curve of the loss, validation loss, accuracy, and validation accuracy. Finally, report the performance on the test set.\n",
        "\n",
        "Feel free to use the plotting function below, or implement the callback from the tutorial to see results in real time."
      ]
    },
    {
      "cell_type": "code",
      "execution_count": 92,
      "metadata": {
        "cellView": "form",
        "id": "QF0BFRXTOeR3"
      },
      "outputs": [
        {
          "name": "stdout",
          "output_type": "stream",
          "text": [
            "Epoch 1/12\n",
            "1563/1563 [==============================] - 5s 3ms/step - loss: 0.5636 - accuracy: 0.8307 - val_loss: 0.2620 - val_accuracy: 0.9258\n",
            "Epoch 2/12\n",
            "1563/1563 [==============================] - 5s 3ms/step - loss: 0.3477 - accuracy: 0.8963 - val_loss: 0.2110 - val_accuracy: 0.9399\n",
            "Epoch 3/12\n",
            "1563/1563 [==============================] - 8s 5ms/step - loss: 0.3004 - accuracy: 0.9090 - val_loss: 0.1843 - val_accuracy: 0.9450\n",
            "Epoch 4/12\n",
            "1563/1563 [==============================] - 5s 3ms/step - loss: 0.2778 - accuracy: 0.9149 - val_loss: 0.1686 - val_accuracy: 0.9474\n",
            "Epoch 5/12\n",
            "1563/1563 [==============================] - 5s 3ms/step - loss: 0.2590 - accuracy: 0.9211 - val_loss: 0.1600 - val_accuracy: 0.9545\n",
            "Epoch 6/12\n",
            "1563/1563 [==============================] - 5s 3ms/step - loss: 0.2479 - accuracy: 0.9238 - val_loss: 0.1591 - val_accuracy: 0.9527\n",
            "Epoch 7/12\n",
            "1563/1563 [==============================] - 5s 3ms/step - loss: 0.2401 - accuracy: 0.9256 - val_loss: 0.1562 - val_accuracy: 0.9549\n",
            "Epoch 8/12\n",
            "1563/1563 [==============================] - 5s 3ms/step - loss: 0.2317 - accuracy: 0.9267 - val_loss: 0.1489 - val_accuracy: 0.9571\n",
            "Epoch 9/12\n",
            "1563/1563 [==============================] - 5s 3ms/step - loss: 0.2266 - accuracy: 0.9294 - val_loss: 0.1442 - val_accuracy: 0.9569\n",
            "Epoch 10/12\n",
            "1563/1563 [==============================] - 5s 3ms/step - loss: 0.2208 - accuracy: 0.9311 - val_loss: 0.1439 - val_accuracy: 0.9575\n",
            "Epoch 11/12\n",
            "1563/1563 [==============================] - 6s 4ms/step - loss: 0.2155 - accuracy: 0.9325 - val_loss: 0.1419 - val_accuracy: 0.9593\n",
            "Epoch 12/12\n",
            "1563/1563 [==============================] - 6s 4ms/step - loss: 0.2075 - accuracy: 0.9341 - val_loss: 0.1400 - val_accuracy: 0.9605\n"
          ]
        }
      ],
      "source": [
        "# Helper plotting function\n",
        "#\n",
        "# history: the history object returned by the fit function\n",
        "history = train_model(model1, x_train_normalized, y_train_encoded, epochs=12, batch_size=32, eval_set=(x_dev_normalized, y_dev_encoded))\n",
        "\n",
        "# list_of_metrics: the metrics to plot\n",
        "list_of_metrics = ['accuracy', 'loss']\n",
        "\n",
        "def plot_curve(history, list_of_metrics):\n",
        "\n",
        "    plt.figure()\n",
        "    plt.xlabel(\"Epoch\")\n",
        "    plt.ylabel(\"Value\")\n",
        "\n",
        "    epochs = history.epoch\n",
        "    hist = pd.DataFrame(history.history)\n",
        "\n",
        "    for m in list_of_metrics:\n",
        "        x = hist[m]\n",
        "        plt.plot(epochs[1:], x[1:], label=m, lw=2)\n",
        "\n",
        "    plt.legend()"
      ]
    },
    {
      "cell_type": "code",
      "execution_count": 93,
      "metadata": {},
      "outputs": [
        {
          "data": {
            "image/png": "[encoded data removed]",
            "text/plain": [
              "<Figure size 800x500 with 1 Axes>"
            ]
          },
          "metadata": {},
          "output_type": "display_data"
        }
      ],
      "source": [
        "pd.DataFrame(history.history).plot(figsize=(8, 5))\n",
        "plt.ylabel(\"Loss\")\n",
        "plt.xlabel(\"Epoch\")\n",
        "plt.title(\"Training and Validation Loss and Accuracy\")\n",
        "plt.show()"
      ]
    },
    {
      "cell_type": "code",
      "execution_count": 94,
      "metadata": {},
      "outputs": [
        {
          "name": "stdout",
          "output_type": "stream",
          "text": [
            "313/313 [==============================] - 1s 2ms/step\n",
            "Accuracy: 0.9606\n"
          ]
        }
      ],
      "source": [
        "y_pred = model1.predict(x_valid_normalized)\n",
        "y_pred = np.argmax(y_pred, axis=1)\n",
        "accuracy = np.mean(y_pred == y_valid)\n",
        "print(f\"Accuracy: {accuracy}\")"
      ]
    },
    {
      "cell_type": "markdown",
      "metadata": {
        "id": "Y5IKmk7D49_n"
      },
      "source": [
        "## Exercise 5: Optimize the model\n",
        "\n",
        "Try to optimize the model, either manually or with a tuning method. At least optimize the following:\n",
        "* the number of hidden layers\n",
        "* the number of nodes in each layer\n",
        "* the amount of dropout layers and the dropout rate\n",
        "\n",
        "Try to reach at least 96% accuracy against the test set."
      ]
    },
    {
      "cell_type": "code",
      "execution_count": 97,
      "metadata": {},
      "outputs": [
        {
          "name": "stdout",
          "output_type": "stream",
          "text": [
            "313/313 [==============================] - 1s 2ms/step\n",
            "32, 10, 0.001, 0.2, 32, 10, 0.9479799866676331, 0.9639000296592712, 0.9626\n",
            "Restoring model weights from the end of the best epoch: 14.\n",
            "Epoch 19: early stopping\n",
            "313/313 [==============================] - 1s 2ms/step\n",
            "32, 10, 0.001, 0.2, 32, 20, 0.9566400051116943, 0.963699996471405, 0.9628\n",
            "Restoring model weights from the end of the best epoch: 14.\n",
            "Epoch 19: early stopping\n",
            "313/313 [==============================] - 1s 2ms/step\n",
            "32, 10, 0.001, 0.2, 32, 30, 0.9543799757957458, 0.9585999846458435, 0.9626\n",
            "Restoring model weights from the end of the best epoch: 12.\n",
            "Epoch 17: early stopping\n",
            "313/313 [==============================] - 1s 2ms/step\n",
            "32, 10, 0.001, 0.2, 32, 40, 0.9526399970054626, 0.9602000117301941, 0.9625\n",
            "Restoring model weights from the end of the best epoch: 14.\n",
            "Epoch 19: early stopping\n",
            "313/313 [==============================] - 1s 2ms/step\n",
            "32, 10, 0.001, 0.2, 32, 50, 0.9557999968528748, 0.9625999927520752, 0.9638\n",
            "313/313 [==============================] - 1s 2ms/step\n",
            "32, 10, 0.001, 0.2, 64, 10, 0.9462000131607056, 0.9580000042915344, 0.9629\n",
            "313/313 [==============================] - 1s 2ms/step\n",
            "32, 10, 0.001, 0.2, 64, 20, 0.9525200128555298, 0.9599000215530396, 0.9631\n"
          ]
        }
      ],
      "source": [
        "grid_search = {\n",
        "    'layer_1_units': [32, 64, 128, 256, 512],\n",
        "    'layer_2_units': [10],\n",
        "    'learning_rate': [0.001, 0.01, 0.1, 1],\n",
        "    'dropout_rate': [0.2, 0.3, 0.5, 0.6],\n",
        "    'batch_size': [32, 64, 128],\n",
        "    'epochs': [10, 20, 30, 40, 50]\n",
        "}\n",
        "\n",
        "# manual hyperparameter tuning\n",
        "results = pd.DataFrame(columns=['layer_1_units', 'layer_2_units', 'learning_rate', 'dropout_rate', 'train_accuracy',\n",
        "                                'validation_accuracy', 'test_accuracy'])\n",
        "for layer_1_units in grid_search['layer_1_units']:\n",
        "    for layer_2_units in grid_search['layer_2_units']:\n",
        "        for learning_rate in grid_search['learning_rate']:\n",
        "            for dropout_rate in grid_search['dropout_rate']:\n",
        "                for batch_size in grid_search['batch_size']:\n",
        "                    for epochs in grid_search['epochs']:\n",
        "                        model = create_model(layer_1_units, layer_2_units, learning_rate, dropout_rate)\n",
        "                        history = train_model(model, x_train_normalized, y_train_encoded, epochs=epochs, batch_size=batch_size, eval_set=(x_dev_normalized, y_dev_encoded), verbose=False)\n",
        "                        train_accuracy = history.history['accuracy'][-1]\n",
        "                        validation_accuracy = history.history['val_accuracy'][-1]\n",
        "                        y_pred = model.predict(x_valid_normalized)\n",
        "                        y_pred = np.argmax(y_pred, axis=1)\n",
        "                        test_accuracy = np.mean(y_pred == y_valid)\n",
        "                        # print accuracies and hyperparameters\n",
        "                        print(f\"{layer_1_units}, {layer_2_units}, {learning_rate}, {dropout_rate}, {batch_size}, {epochs}, {train_accuracy}, {validation_accuracy}, {test_accuracy}\")\n",
        "                        results = pd.concat([results, pd.DataFrame({'layer_1_units': [layer_1_units],\n",
        "                                                                    'layer_2_units': [layer_2_units],\n",
        "                                                                    'learning_rate': [learning_rate],\n",
        "                                                                    'dropout_rate': [dropout_rate],\n",
        "                                                                    'train_accuracy': [train_accuracy],\n",
        "                                                                    'validation_accuracy': [validation_accuracy],\n",
        "                                                                    'test_accuracy': [test_accuracy]}, index=[f\"{layer_1_units}_{layer_2_units}_{learning_rate}_{dropout_rate}_{batch_size}_{epochs}\"])])\n"
      ]
    },
    {
      "cell_type": "code",
      "execution_count": null,
      "metadata": {},
      "outputs": [],
      "source": []
    }
  ],
  "metadata": {
    "colab": {
      "private_outputs": true,
      "provenance": []
    },
    "kernelspec": {
      "display_name": "Python 3 (ipykernel)",
      "language": "python",
      "name": "python3"
    },
    "language_info": {
      "codemirror_mode": {
        "name": "ipython",
        "version": 3
      },
      "file_extension": ".py",
      "mimetype": "text/x-python",
      "name": "python",
      "nbconvert_exporter": "python",
      "pygments_lexer": "ipython3",
      "version": "3.8.18"
    }
  },
  "nbformat": 4,
  "nbformat_minor": 0
}
